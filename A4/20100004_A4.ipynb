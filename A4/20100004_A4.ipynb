{
  "nbformat": 4,
  "nbformat_minor": 0,
  "metadata": {
    "kernelspec": {
      "display_name": "Python 3",
      "language": "python",
      "name": "python3"
    },
    "language_info": {
      "codemirror_mode": {
        "name": "ipython",
        "version": 3
      },
      "file_extension": ".py",
      "mimetype": "text/x-python",
      "name": "python",
      "nbconvert_exporter": "python",
      "pygments_lexer": "ipython3",
      "version": "3.7.4"
    },
    "colab": {
      "name": "Assignment_4.ipynb",
      "provenance": []
    },
    "accelerator": "GPU"
  },
  "cells": [
    {
      "cell_type": "markdown",
      "metadata": {
        "id": "JfFXEVniY0WJ",
        "colab_type": "text"
      },
      "source": [
        "# Assignment 4 CS 5316 Natural Language Processing"
      ]
    },
    {
      "cell_type": "code",
      "metadata": {
        "id": "5Rh7F52CY11g",
        "colab_type": "code",
        "outputId": "e8096f12-74ea-488a-86aa-035f51c6fe69",
        "colab": {
          "base_uri": "https://localhost:8080/",
          "height": 125
        }
      },
      "source": [
        "#Mount your google drive to this notebook\n",
        "\n",
        "from google.colab import drive\n",
        "drive.mount('/content/gdrive')"
      ],
      "execution_count": 1,
      "outputs": [
        {
          "output_type": "stream",
          "text": [
            "Go to this URL in a browser: https://accounts.google.com/o/oauth2/auth?client_id=947318989803-6bn6qk8qdgf4n4g3pfee6491hc0brc4i.apps.googleusercontent.com&redirect_uri=urn%3aietf%3awg%3aoauth%3a2.0%3aoob&response_type=code&scope=email%20https%3a%2f%2fwww.googleapis.com%2fauth%2fdocs.test%20https%3a%2f%2fwww.googleapis.com%2fauth%2fdrive%20https%3a%2f%2fwww.googleapis.com%2fauth%2fdrive.photos.readonly%20https%3a%2f%2fwww.googleapis.com%2fauth%2fpeopleapi.readonly\n",
            "\n",
            "Enter your authorization code:\n",
            "··········\n",
            "Mounted at /content/gdrive\n"
          ],
          "name": "stdout"
        }
      ]
    },
    {
      "cell_type": "code",
      "metadata": {
        "id": "C7G4mt6rfpD4",
        "colab_type": "code",
        "outputId": "794934b5-183c-4892-b4b5-20bb95283d8c",
        "colab": {
          "base_uri": "https://localhost:8080/",
          "height": 34
        }
      },
      "source": [
        "%cd /content/gdrive/My Drive/NLP/Assignment4"
      ],
      "execution_count": 2,
      "outputs": [
        {
          "output_type": "stream",
          "text": [
            "/content/gdrive/.shortcut-targets-by-id/1QU-Nm928liikIV4AYyrX-UOUxKStNUk_/NLP/Assignment4\n"
          ],
          "name": "stdout"
        }
      ]
    },
    {
      "cell_type": "code",
      "metadata": {
        "id": "1IFyfl4DY0WK",
        "colab_type": "code",
        "outputId": "41e24b93-7b53-4cd1-e42b-ade5a25f4e59",
        "colab": {
          "base_uri": "https://localhost:8080/",
          "height": 72
        }
      },
      "source": [
        "import numpy as np\n",
        "from IPython.display import Image\n",
        "# Get the interactive Tools for Matplotlib\n",
        "%matplotlib inline\n",
        "import matplotlib.pyplot as plt\n",
        "plt.style.use('ggplot')\n",
        "from sklearn.decomposition import PCA\n",
        "from gensim.test.utils import datapath, get_tmpfile\n",
        "from gensim.models import KeyedVectors\n",
        "from gensim.scripts.glove2word2vec import glove2word2vec\n",
        "from sklearn.decomposition import TruncatedSVD\n",
        "from sklearn.utils.extmath import randomized_svd\n",
        "from nltk import ngrams\n",
        "import pandas as pd\n",
        "import seaborn as sn\n",
        "import tensorflow as tf\n",
        "from tensorflow.keras.layers import Dense, Activation, RepeatVector,Flatten, TimeDistributed, Input,Bidirectional,LocallyConnected1D,Conv1D,GlobalAveragePooling1D,GlobalMaxPooling1D,Concatenate,BatchNormalization\n",
        "from tensorflow.keras.layers import Embedding, LSTM ,Dropout,GRU,SimpleRNN\n",
        "from tensorflow.keras.models import Model\n",
        "from tensorflow.keras.preprocessing.text import Tokenizer\n",
        "from tensorflow.keras.preprocessing.sequence import pad_sequences\n",
        "from tensorflow.keras import optimizers\n",
        "# from tensorflow.keras.utils.vis_utils import plot_model\n",
        "from tensorflow.keras.utils import to_categorical\n",
        "# import tensorflow.keras.utils.to_categorical as to_categorical\n",
        "from sklearn.preprocessing import LabelEncoder\n",
        "from sklearn.preprocessing import OneHotEncoder\n",
        "import matplotlib.pyplot as plt\n",
        "import matplotlib.mlab as mlab\n",
        "from sklearn.model_selection import train_test_split\n",
        "from tensorflow.keras.callbacks import ModelCheckpoint, EarlyStopping, CSVLogger, ReduceLROnPlateau\n",
        "from sklearn.metrics import f1_score, precision_score, recall_score, confusion_matrix\n",
        "import math\n",
        "from sklearn.metrics import confusion_matrix\n",
        "import seaborn as sn\n",
        "from sklearn.metrics import classification_report\n",
        "import pandas as pd\n",
        "import csv"
      ],
      "execution_count": 3,
      "outputs": [
        {
          "output_type": "stream",
          "text": [
            "/usr/local/lib/python3.6/dist-packages/statsmodels/tools/_testing.py:19: FutureWarning: pandas.util.testing is deprecated. Use the functions in the public API at pandas.testing instead.\n",
            "  import pandas.util.testing as tm\n"
          ],
          "name": "stderr"
        }
      ]
    },
    {
      "cell_type": "markdown",
      "metadata": {
        "id": "S3C6wL5TY0WQ",
        "colab_type": "text"
      },
      "source": [
        "# Final Assingmnet\n",
        "This is going to be the final assignment for deep learning. Here is a very good visual for what you will be doing with\n",
        "<a href=\"https://ibb.co/mh9Ks0j\">deep learning.</a> Lets get started......."
      ]
    },
    {
      "cell_type": "markdown",
      "metadata": {
        "id": "qn545-S6Y0WS",
        "colab_type": "text"
      },
      "source": [
        "# TASK 1 Paraphrase Detection\n",
        "For this task we will be using the [ Microsoft Research Paraphrase Corpus ](https://www.microsoft.com/en-us/download/details.aspx?id=52398). The corpus consist of sentence pairs with 1 or 0 labels which identify if the sentences are paraphrase or not respectively.\n",
        "<br>\n",
        "To perform this task we will be using recurrenct neural network for this task specifically the [LSTM](https://colah.github.io/posts/2015-08-Understanding-LSTMs/). RNN can be architected in multiple ways. Some of the possible ways are as follows:\n",
        "<img src=\"archetecturernn.png\">\n",
        "The box in the bottom is the input, followed by the hidden layer (as the middle box), and the box on top is the output layer. The one-to-one architecture is the typical neural network (<i>vanila/Feed Forward</i>) with a hidden layer between the input and the output layer. Example uses of the above archetecture are as follows:\n",
        "<ul>\n",
        "    <li>One-to-many: input is an image and outputs are image captions</li>\n",
        "    <li>Many-to-one: input is a movie's review <i>multiple words in input</i> and output is sentiment associated with the review <i>(we will be using a similar archetecture for our purpose)</i></li>\n",
        "    <li>Many-to-many: machine translation of a sentence in one language to a sentence in another language, POS tagging etc</li>\n",
        "</ul>\n",
        "<br>\n",
        "For this task we will also be using pre-trained word embeddings specificallly <a href=\"https://nlp.stanford.edu/projects/glove/\">(GloVe Embeddings)</a>. Please download the paraphrase <a href=\"https://www.microsoft.com/en-us/download/details.aspx?id=52398\">dataset</a> and glove.6B.zip from <a href=\"https://nlp.stanford.edu/projects/glove/\">here</a>."
      ]
    },
    {
      "cell_type": "markdown",
      "metadata": {
        "id": "QojvGy-ZY0WT",
        "colab_type": "text"
      },
      "source": [
        "For this task you are required to implement the following archetecture, please use [keras functional API](https://www.tensorflow.org/guide/keras/functional) :\n",
        "<img src=\"paraphrase.png\">\n",
        "If <a href=\"https://ibb.co/RSSjRM0\">this</a> is you reaction after seeing the model archetecture dont worry we'll explain.\n",
        "The model works as follows, there will be two inputs layers, one for each sentence followed by <b>shared</b> embedding layer which feed thier outputs to the shared LSTM, <b>take the final hidden state output</b> of both LSTM's and concatenate them. Finally feed the concatenated vector to a softmax output layer for classification.\n",
        "<br>\n",
        "<i>(The reason for using one shared embedding and LSTM layer so that the model learns sentence representation for all sentence pairs(x,x') in the dataset. If we were using two seperate LSTMS for x and x' we would need to double the dataset by having both (x,x') and (x',x) pairs so that both LSTM's see the entire train data distribution)</i>\n",
        "The purpose for each layer in the model is as follows:\n",
        "<ul>\n",
        "    <li>Input takes the input sequences and feeds it to the next(you will need to specify the maximum size of a sentence as a parameter of this layer)</li>\n",
        "    <li>Embedding layer, this layer takes the sequence input then for each word in the sequence generates a fixed size vector <i>(word embedding)</i>, this layer can be trained from scratch or can be configured to use pretrained embeddings with or without fine tuning. </li>\n",
        "    <li>LSTM process the embedding vector sequences and at each step generates a hidden state vector(h)and cell memory vector(C)(<i>see diagram</i>), the keras LSTM layer returns three outputs (1) All the hidden states,(2) The final hidden state and (3) The final cell memory state<img src=\"lstm.png\"></li>\n",
        "    <li>The concatenation layer combines multple vectors into a single vector</li>\n",
        "    <li>Finally the output layer predicts if sentence pairs were paraphrase or not</li>\n",
        "</ul>\n",
        "<b>Please refer to the TF-keras documentation for all the layers <a href=\"https://www.tensorflow.org/api_docs/python/tf/keras/layers\">here</a></b>\n",
        "<br><br><br>\n",
        "Now that you understand the theoritical foundation for our approach lets move onto practical implementation.<br>\n",
        "<h3>Data Preperation</h3>\n",
        "\n",
        "<ul>\n",
        "    <li> First we need to preprocess the data, convert the data to lower casing. Any other preprocessing procedures are optional but keep in mind that this will affect the performance of your model.</li>\n",
        "    <li> To make training faster we will fix the maximum sequence length to 20 truncate the longer sequences.</li>\n",
        "    <li> Split the data into test, train and validation in the ratio 20,70,10. Use <a href=\"https://scikit-learn.org/stable/modules/generated/sklearn.model_selection.train_test_split.html\">scikit_test_train_split</a> <br><i><b>Hint:</b> use the splitter twice to get desired data splits.</i></li>\n",
        "    <li> Next we need the vocabulary, vocabulary size and to convert sentences to numeric sequences by representing each word with a numeric value which will make our implementation easier later on, use <a href=\"https://www.tensorflow.org/api_docs/python/tf/keras/preprocessing/text/Tokenizer\">Tokenizer</a> from keras. <br><i>(Fit the tokenizer on train data and use the same tokenizer to convert train,test and validation data to numeric sequences)</i> </li>\n",
        "    <li>  Use <a href=\"https://www.tensorflow.org/api_docs/python/tf/keras/preprocessing/sequence/pad_sequences\"> pad sequences</a> to add post padding to all sentences that are shorter than maximum sequence length\n",
        "        <i>(<b>extra info</b>: fit_on_text reserves value/index 0 for padding and assigns numeric value to words starting from index 1)</i></li>\n",
        "</ul>\n",
        "<h3>Loading embeddings</h3>\n",
        "<ul>\n",
        "    <li> To use pretrained embeddings in tf keras embedding layer requires a dictionary, we need to create a dictionary whose keys will be numeric word representations and values will be the embedding vectors.</li>\n",
        "    <li> First step is to load the word embedding pairs from the glove file into a dictionary.</li>\n",
        "    <li> Next we will create a dictionary for our dataset's vocabulary. Copy all the word embeddings for words that are in our vocabulary and in the glove dictionary, if a word exists in our vocabulary but does not exist in glove dictionary create a zero vector of embedding dimension size and add it to the dictionary.</li>\n",
        "</ul>\n",
        "<h3>Create Model</h3>\n",
        "<ul>\n",
        "    <li> Create the model using <a href\"https://www.tensorflow.org/guide/keras/functional\">functional API</a></li>\n",
        "    <li> Hints: The emebedding layer has a parameter that allows you to use pretrained embeddings, for shared layers read the section of shared layer weights in function API docs</li>"
      ]
    },
    {
      "cell_type": "code",
      "metadata": {
        "id": "8ig0vpybY0WU",
        "colab_type": "code",
        "colab": {}
      },
      "source": [
        "def loadData(filename):\n",
        "    \"\"\"\n",
        "    Return preprocessed data\n",
        "    \n",
        "    Returns: X and Y where X is pair of sentence (x,x') and y is the label 0 or 1\n",
        "    \"\"\"\n",
        "    df =  pd.read_csv(filename)\n",
        "    df.columns = ['target','id1','id2','s1','s2']\n",
        "    del df['id1']\n",
        "    del df['id2']\n",
        "    df.head()\n",
        "    return df"
      ],
      "execution_count": 0,
      "outputs": []
    },
    {
      "cell_type": "code",
      "metadata": {
        "id": "AhzngOFxY0Wc",
        "colab_type": "code",
        "colab": {}
      },
      "source": [
        "def preprocessing(data):\n",
        "    \"\"\"\n",
        "    Return preprocessed data\n",
        "\n",
        "    Args:\n",
        "        data : sentence pairs\n",
        "    \n",
        "    Returns: preprocessed_data\n",
        "    preprocessed_data : preprocessed dataset \n",
        "    \"\"\"\n",
        "    #Doing the bare minimum pre-processing. Rest to be done in tokenizer/padding \n",
        "    data['s1'] = data['s1'].str.lower()\n",
        "    data['s2'] = data['s2'].str.lower()\n",
        "    return data"
      ],
      "execution_count": 0,
      "outputs": []
    },
    {
      "cell_type": "code",
      "metadata": {
        "id": "5d99bO_QY0Wh",
        "colab_type": "code",
        "colab": {}
      },
      "source": [
        "df_train = loadData(\"msr_paraphrase_train.csv\")\n",
        "df_train = preprocessing(df_train)\n",
        "df_test = loadData(\"msr_paraphrase_test.csv\")\n",
        "df_test = preprocessing(df_test)"
      ],
      "execution_count": 0,
      "outputs": []
    },
    {
      "cell_type": "markdown",
      "metadata": {
        "id": "FWLLU7y9Y0Wp",
        "colab_type": "text"
      },
      "source": [
        "### Test train split\n",
        "Use test train split from sklearn.\n"
      ]
    },
    {
      "cell_type": "code",
      "metadata": {
        "id": "BH4qi_MlY0Wq",
        "colab_type": "code",
        "colab": {}
      },
      "source": [
        "def testTrainSplit(data_X,data_Y):\n",
        "    \"\"\"\n",
        "    Return test train data\n",
        "\n",
        "    Args:\n",
        "        data_X : sentence pairs\n",
        "        data_Y: labels\n",
        "        \n",
        "    Returns: test train and validation split data \n",
        "    \"\"\"\n",
        "    #As asked in the email use only split the training into train and val. Use test as it is\n",
        "    X_train, X_val, y_train, y_val = train_test_split(data_X, data_Y, test_size=0.1, random_state=1)\n",
        "    return X_train,X_val,y_train,y_val"
      ],
      "execution_count": 0,
      "outputs": []
    },
    {
      "cell_type": "code",
      "metadata": {
        "id": "fYwlBt_KY0Wu",
        "colab_type": "code",
        "colab": {}
      },
      "source": [
        "X_train,X_val,y_train,y_val = testTrainSplit(df_train[['s1','s2']],df_train[['target']])"
      ],
      "execution_count": 0,
      "outputs": []
    },
    {
      "cell_type": "code",
      "metadata": {
        "id": "k50BmqAhY0W0",
        "colab_type": "code",
        "colab": {}
      },
      "source": [
        "X_test,y_test = df_test[['s1','s2']],df_test[['target']]"
      ],
      "execution_count": 0,
      "outputs": []
    },
    {
      "cell_type": "code",
      "metadata": {
        "id": "Ci4FePkKY0W7",
        "colab_type": "code",
        "colab": {}
      },
      "source": [
        "def combineList(X,first):\n",
        "    #Joining the sentences into a list of list \n",
        "    slist = []\n",
        "    if first:\n",
        "        newSentences = X['s1']+' '+X['s2']\n",
        "    else:\n",
        "        newSentences = X['s2']+' '+X['s1']\n",
        "    for val in newSentences:\n",
        "        slist.append(str(val))\n",
        "    return slist"
      ],
      "execution_count": 0,
      "outputs": []
    },
    {
      "cell_type": "code",
      "metadata": {
        "id": "onydJzjRY0W-",
        "colab_type": "code",
        "colab": {}
      },
      "source": [
        "listX_train1 = combineList(X_train,first=True)\n",
        "listX_test1 = combineList(X_test,first=True)\n",
        "listX_val1 = combineList(X_val,first=True)\n",
        "listX_train2 = combineList(X_train,first=False)\n",
        "listX_test2 = combineList(X_test,first=False)\n",
        "listX_val2 = combineList(X_val,first=False)"
      ],
      "execution_count": 0,
      "outputs": []
    },
    {
      "cell_type": "code",
      "metadata": {
        "id": "VOi9TyIEY0XC",
        "colab_type": "code",
        "colab": {}
      },
      "source": [
        "y_trainhot = to_categorical(y_train)\n",
        "y_testhot = to_categorical(y_test)\n",
        "y_valhot = to_categorical(y_val)"
      ],
      "execution_count": 0,
      "outputs": []
    },
    {
      "cell_type": "markdown",
      "metadata": {
        "id": "0ZytpuSyY0XQ",
        "colab_type": "text"
      },
      "source": [
        "Implement the step regarding keras Tokenizer in the cell below.<br>\n",
        "<i> Keep in mind that each example is a pair/tupple of sentence(x,x'), combine them into a single sentence so that your data is a list of sentences before calling fit on text(Tokenizer). There is out of vocabulary option in tokenizer check that out aswell.</i>"
      ]
    },
    {
      "cell_type": "code",
      "metadata": {
        "id": "knGA3bTDY0XR",
        "colab_type": "code",
        "colab": {}
      },
      "source": [
        "# Get vocabular, vocabulary size and numeric word seqeunces for train,test and validation data\n",
        "def doMagic(listX_train,listX_test,listX_val,maxlen=20):\n",
        "    text_tokenizer = Tokenizer(lower=False,oov_token=\"<UNK>\")\n",
        "    text_tokenizer.fit_on_texts(listX_train)\n",
        "    #Done creating sequences \n",
        "    sequence_X_train = text_tokenizer.texts_to_sequences(listX_train)\n",
        "    sequence_X_test = text_tokenizer.texts_to_sequences(listX_test)\n",
        "    sequence_X_val = text_tokenizer.texts_to_sequences(listX_val)\n",
        "    #print(sequence_X_val)\n",
        "    #Now need to create padded sequences\n",
        "    padded_X_train = pad_sequences(sequence_X_train,maxlen=maxlen,padding=\"post\")\n",
        "    padded_X_test = pad_sequences(sequence_X_test,maxlen=maxlen,padding=\"post\")\n",
        "    padded_X_val = pad_sequences(sequence_X_val,maxlen=maxlen,padding=\"post\")\n",
        "    vocab = text_tokenizer.index_word\n",
        "    vocab_size = len(vocab)+1\n",
        "    #print(padded_X_train.shape)\n",
        "    return padded_X_train,padded_X_test,padded_X_val,vocab,vocab_size\n",
        "    "
      ],
      "execution_count": 0,
      "outputs": []
    },
    {
      "cell_type": "code",
      "metadata": {
        "id": "KXXdAE12Y0XU",
        "colab_type": "code",
        "colab": {}
      },
      "source": [
        "maxlen = 20"
      ],
      "execution_count": 0,
      "outputs": []
    },
    {
      "cell_type": "code",
      "metadata": {
        "id": "s9diFJzLY0Xh",
        "colab_type": "code",
        "colab": {}
      },
      "source": [
        "padded_X_train1,padded_X_test1,padded_X_val1,vocab,vocab_size = doMagic(listX_train1,listX_test1,listX_val1,maxlen)\n",
        "padded_X_train2,padded_X_test2,padded_X_val2,_,_ = doMagic(listX_train2,listX_test2,listX_val2,maxlen)"
      ],
      "execution_count": 0,
      "outputs": []
    },
    {
      "cell_type": "markdown",
      "metadata": {
        "id": "UOY5TaGWY0Xk",
        "colab_type": "text"
      },
      "source": [
        "Create the model in the cell below:\n",
        "Try out different sizes for LSTM 50,100,300 and use relu activations. Also report results with Bi-LSTM as well.<br>\n",
        "<i>To boost performance you can try adding a hidden layer between the lstm and output layer and also by adding a dropout layer in between different layers</i>"
      ]
    },
    {
      "cell_type": "code",
      "metadata": {
        "id": "clxyec4MY0Xl",
        "colab_type": "code",
        "colab": {}
      },
      "source": [
        "import os\n",
        "EMBEDDING_DIM = 50\n",
        "LSTM_SIZE = 50"
      ],
      "execution_count": 0,
      "outputs": []
    },
    {
      "cell_type": "code",
      "metadata": {
        "id": "9dNuQ_aDY0Xp",
        "colab_type": "code",
        "colab": {}
      },
      "source": [
        "def loadGlove(name,EMBEDDING_DIM,word_index):\n",
        "    embeddings_index = {}\n",
        "    f = open(name,encoding=\"utf-8\")\n",
        "    for line in f:\n",
        "        values = line.split()\n",
        "        word = values[0]\n",
        "        coefs = np.asarray(values[1:], dtype='float32')\n",
        "        embeddings_index[word] = coefs\n",
        "    f.close()\n",
        "    embedding_matrix = np.zeros((len(word_index) + 1, EMBEDDING_DIM))\n",
        "    for word, i in word_index.items():\n",
        "        embedding_vector = embeddings_index.get(word)\n",
        "        if embedding_vector is not None:\n",
        "            # words not found in embedding index will be all-zeros.\n",
        "            embedding_matrix[i] = embedding_vector\n",
        "\n",
        "    print('Found %s word vectors.' % len(embeddings_index))\n",
        "    return embedding_matrix"
      ],
      "execution_count": 0,
      "outputs": []
    },
    {
      "cell_type": "code",
      "metadata": {
        "id": "z6esjJt0Y0Xx",
        "colab_type": "code",
        "outputId": "0418d759-b32c-4a0b-ed13-c4dcb4191333",
        "colab": {
          "base_uri": "https://localhost:8080/",
          "height": 34
        }
      },
      "source": [
        "embedding_matrix = loadGlove(\"glove.6B.50d.txt\",EMBEDDING_DIM=EMBEDDING_DIM,word_index=vocab)\n"
      ],
      "execution_count": 18,
      "outputs": [
        {
          "output_type": "stream",
          "text": [
            "Found 400000 word vectors.\n"
          ],
          "name": "stdout"
        }
      ]
    },
    {
      "cell_type": "code",
      "metadata": {
        "id": "R_YqDv2nK9Pc",
        "colab_type": "code",
        "colab": {
          "base_uri": "https://localhost:8080/",
          "height": 34
        },
        "outputId": "8d1c4a00-0e35-40d7-f128-41e8f7abca49"
      },
      "source": [
        "type(embedding_matrix)"
      ],
      "execution_count": 19,
      "outputs": [
        {
          "output_type": "execute_result",
          "data": {
            "text/plain": [
              "numpy.ndarray"
            ]
          },
          "metadata": {
            "tags": []
          },
          "execution_count": 19
        }
      ]
    },
    {
      "cell_type": "code",
      "metadata": {
        "id": "Ee3qa4ENY0X1",
        "colab_type": "code",
        "outputId": "fee05019-b5f2-4c47-a53a-cd1318b53b1f",
        "colab": {
          "base_uri": "https://localhost:8080/",
          "height": 474
        }
      },
      "source": [
        "# code model here\n",
        "%cd /content/gdrive/My Drive/NLP/Assignment4\n",
        "EMBEDDING_DIM = 50\n",
        "LSTM_SIZE = 50\n",
        "embedding_matrix = loadGlove(\"glove.6B.50d.txt\",EMBEDDING_DIM=EMBEDDING_DIM,word_index=vocab)\n",
        "inputA = Input(shape=(maxlen,))\n",
        "inputB = Input(shape=(maxlen,))\n",
        "embedding_layer = Embedding(input_dim=vocab_size,output_dim=EMBEDDING_DIM,input_length=maxlen,weights=[embedding_matrix],\n",
        "                           trainable=True)\n",
        "shared_embedding_layer_1 = embedding_layer(inputA)\n",
        "shared_embedding_layer_2 = embedding_layer(inputB)\n",
        "\n",
        "shared_lstm = LSTM(LSTM_SIZE, return_sequences=True,return_state=True,recurrent_dropout=0.2)\n",
        "_,last1,_ = shared_lstm(shared_embedding_layer_1)\n",
        "_,last2,_ = shared_lstm(shared_embedding_layer_2)\n",
        "concat = Concatenate()([last1,last2])\n",
        "out = Dense(2,activation = \"softmax\",name=\"model1\",)(concat)\n",
        "\n",
        "model = Model(inputs=[inputA,inputB],outputs=out)\n",
        "model.summary()\n"
      ],
      "execution_count": 20,
      "outputs": [
        {
          "output_type": "stream",
          "text": [
            "/content/gdrive/.shortcut-targets-by-id/1QU-Nm928liikIV4AYyrX-UOUxKStNUk_/NLP/Assignment4\n",
            "Found 400000 word vectors.\n",
            "WARNING:tensorflow:Layer lstm will not use cuDNN kernel since it doesn't meet the cuDNN kernel criteria. It will use generic GPU kernel as fallback when running on GPU\n",
            "Model: \"model\"\n",
            "__________________________________________________________________________________________________\n",
            "Layer (type)                    Output Shape         Param #     Connected to                     \n",
            "==================================================================================================\n",
            "input_1 (InputLayer)            [(None, 20)]         0                                            \n",
            "__________________________________________________________________________________________________\n",
            "input_2 (InputLayer)            [(None, 20)]         0                                            \n",
            "__________________________________________________________________________________________________\n",
            "embedding (Embedding)           (None, 20, 50)       651450      input_1[0][0]                    \n",
            "                                                                 input_2[0][0]                    \n",
            "__________________________________________________________________________________________________\n",
            "lstm (LSTM)                     [(None, 20, 50), (No 20200       embedding[0][0]                  \n",
            "                                                                 embedding[1][0]                  \n",
            "__________________________________________________________________________________________________\n",
            "concatenate (Concatenate)       (None, 100)          0           lstm[0][1]                       \n",
            "                                                                 lstm[1][1]                       \n",
            "__________________________________________________________________________________________________\n",
            "model1 (Dense)                  (None, 2)            202         concatenate[0][0]                \n",
            "==================================================================================================\n",
            "Total params: 671,852\n",
            "Trainable params: 671,852\n",
            "Non-trainable params: 0\n",
            "__________________________________________________________________________________________________\n"
          ],
          "name": "stdout"
        }
      ]
    },
    {
      "cell_type": "code",
      "metadata": {
        "id": "oRNpXNzpY0X-",
        "colab_type": "code",
        "outputId": "3e47d328-8def-4f85-c206-01f47150d554",
        "colab": {
          "base_uri": "https://localhost:8080/",
          "height": 34
        }
      },
      "source": [
        "%cd /content/gdrive/My Drive/Results\n",
        "model.compile(optimizer=\"Adam\",loss=\"categorical_crossentropy\",metrics=[\"accuracy\"])\n",
        "from tensorflow.keras.callbacks import ModelCheckpoint, EarlyStopping, CSVLogger, ReduceLROnPlateau\n",
        "filepath = \"setting_\" + \"model1\" + \".hdf5\"\n",
        "logfilepath = \"setting_\"+\"model1\" + \".csv\"\n",
        "reduce_lr_rate=0.2\n",
        "logCallback = CSVLogger(logfilepath, separator=',', append=False)\n",
        "earlyStopping = EarlyStopping(monitor='val_accuracy', min_delta=0, patience=10, verbose=0, mode='auto')\n",
        "checkpoint = ModelCheckpoint(filepath, monitor='val_accuracy', save_weights_only=True, verbose=1,\n",
        "                             save_best_only=True, mode='auto')\n",
        "reduce_lr = ReduceLROnPlateau(monitor='val_loss', factor=reduce_lr_rate, patience=10,\n",
        "                              cooldown=0, min_lr=0.0000000001, verbose=0)\n",
        "\n",
        "callbacks_list = [logCallback, earlyStopping, reduce_lr, checkpoint]"
      ],
      "execution_count": 21,
      "outputs": [
        {
          "output_type": "stream",
          "text": [
            "/content/gdrive/My Drive/Results\n"
          ],
          "name": "stdout"
        }
      ]
    },
    {
      "cell_type": "code",
      "metadata": {
        "id": "fSNE3ftrY0YB",
        "colab_type": "code",
        "outputId": "c7efc665-a6bc-4a45-b893-e428aedc6dad",
        "colab": {
          "base_uri": "https://localhost:8080/",
          "height": 809
        }
      },
      "source": [
        "model.fit([padded_X_train1,padded_X_train2],y_trainhot,epochs=100, batch_size=32,\n",
        "                verbose=1,shuffle=True,callbacks=callbacks_list,\n",
        "             validation_data=([padded_X_val1,padded_X_val2],y_valhot),use_multprocessing=True)"
      ],
      "execution_count": 22,
      "outputs": [
        {
          "output_type": "stream",
          "text": [
            "Epoch 1/100\n",
            "115/115 [==============================] - ETA: 0s - loss: 0.6206 - accuracy: 0.6832\n",
            "Epoch 00001: val_accuracy improved from -inf to 0.69853, saving model to setting_model1.hdf5\n",
            "115/115 [==============================] - 17s 147ms/step - loss: 0.6206 - accuracy: 0.6832 - val_loss: 0.6032 - val_accuracy: 0.6985 - lr: 0.0010\n",
            "Epoch 2/100\n",
            "115/115 [==============================] - ETA: 0s - loss: 0.4158 - accuracy: 0.8146\n",
            "Epoch 00002: val_accuracy did not improve from 0.69853\n",
            "115/115 [==============================] - 16s 138ms/step - loss: 0.4158 - accuracy: 0.8146 - val_loss: 0.7376 - val_accuracy: 0.6789 - lr: 0.0010\n",
            "Epoch 3/100\n",
            "115/115 [==============================] - ETA: 0s - loss: 0.1806 - accuracy: 0.9299\n",
            "Epoch 00003: val_accuracy did not improve from 0.69853\n",
            "115/115 [==============================] - 16s 139ms/step - loss: 0.1806 - accuracy: 0.9299 - val_loss: 1.1005 - val_accuracy: 0.6201 - lr: 0.0010\n",
            "Epoch 4/100\n",
            "115/115 [==============================] - ETA: 0s - loss: 0.0930 - accuracy: 0.9670\n",
            "Epoch 00004: val_accuracy did not improve from 0.69853\n",
            "115/115 [==============================] - 16s 139ms/step - loss: 0.0930 - accuracy: 0.9670 - val_loss: 0.9990 - val_accuracy: 0.6422 - lr: 0.0010\n",
            "Epoch 5/100\n",
            "115/115 [==============================] - ETA: 0s - loss: 0.0650 - accuracy: 0.9812\n",
            "Epoch 00005: val_accuracy did not improve from 0.69853\n",
            "115/115 [==============================] - 16s 140ms/step - loss: 0.0650 - accuracy: 0.9812 - val_loss: 1.3912 - val_accuracy: 0.6667 - lr: 0.0010\n",
            "Epoch 6/100\n",
            "115/115 [==============================] - ETA: 0s - loss: 0.0392 - accuracy: 0.9880\n",
            "Epoch 00006: val_accuracy did not improve from 0.69853\n",
            "115/115 [==============================] - 16s 139ms/step - loss: 0.0392 - accuracy: 0.9880 - val_loss: 1.3083 - val_accuracy: 0.6593 - lr: 0.0010\n",
            "Epoch 7/100\n",
            "115/115 [==============================] - ETA: 0s - loss: 0.0400 - accuracy: 0.9891\n",
            "Epoch 00007: val_accuracy did not improve from 0.69853\n",
            "115/115 [==============================] - 16s 137ms/step - loss: 0.0400 - accuracy: 0.9891 - val_loss: 1.6966 - val_accuracy: 0.6569 - lr: 0.0010\n",
            "Epoch 8/100\n",
            "115/115 [==============================] - ETA: 0s - loss: 0.0403 - accuracy: 0.9902\n",
            "Epoch 00008: val_accuracy did not improve from 0.69853\n",
            "115/115 [==============================] - 16s 137ms/step - loss: 0.0403 - accuracy: 0.9902 - val_loss: 1.3877 - val_accuracy: 0.6593 - lr: 0.0010\n",
            "Epoch 9/100\n",
            "115/115 [==============================] - ETA: 0s - loss: 0.0298 - accuracy: 0.9935\n",
            "Epoch 00009: val_accuracy did not improve from 0.69853\n",
            "115/115 [==============================] - 16s 137ms/step - loss: 0.0298 - accuracy: 0.9935 - val_loss: 1.3893 - val_accuracy: 0.6569 - lr: 0.0010\n",
            "Epoch 10/100\n",
            "115/115 [==============================] - ETA: 0s - loss: 0.0227 - accuracy: 0.9935\n",
            "Epoch 00010: val_accuracy did not improve from 0.69853\n",
            "115/115 [==============================] - 16s 139ms/step - loss: 0.0227 - accuracy: 0.9935 - val_loss: 1.5778 - val_accuracy: 0.6544 - lr: 0.0010\n",
            "Epoch 11/100\n",
            "115/115 [==============================] - ETA: 0s - loss: 0.0182 - accuracy: 0.9954\n",
            "Epoch 00011: val_accuracy did not improve from 0.69853\n",
            "115/115 [==============================] - 16s 138ms/step - loss: 0.0182 - accuracy: 0.9954 - val_loss: 2.1170 - val_accuracy: 0.6397 - lr: 0.0010\n"
          ],
          "name": "stdout"
        },
        {
          "output_type": "execute_result",
          "data": {
            "text/plain": [
              "<tensorflow.python.keras.callbacks.History at 0x7fc28ee25a20>"
            ]
          },
          "metadata": {
            "tags": []
          },
          "execution_count": 22
        }
      ]
    },
    {
      "cell_type": "code",
      "metadata": {
        "id": "Gj1phORzknZO",
        "colab_type": "code",
        "outputId": "1b64baa0-3fb7-4338-9130-9be604718496",
        "colab": {
          "base_uri": "https://localhost:8080/",
          "height": 446
        }
      },
      "source": [
        "#predictions = code here\n",
        "labelList=[0,1]\n",
        "predictions = model.predict([padded_X_test1,padded_X_test2])\n",
        "from sklearn.metrics import confusion_matrix\n",
        "predictions = np.argmax(predictions,axis=-1)\n",
        "test_Y_max=np.argmax(y_testhot, axis=-1)\n",
        "cm=confusion_matrix(test_Y_max,predictions)\n",
        "cm = cm.astype('float') / cm.sum(axis=1)[:, np.newaxis]\n",
        "cm = pd.DataFrame(cm, labelList,labelList )# matrix,names row,names col,\n",
        "plt.figure(figsize = (10,7))\n",
        "sn.heatmap(cm, annot=True)"
      ],
      "execution_count": 23,
      "outputs": [
        {
          "output_type": "execute_result",
          "data": {
            "text/plain": [
              "<matplotlib.axes._subplots.AxesSubplot at 0x7fc22361a8d0>"
            ]
          },
          "metadata": {
            "tags": []
          },
          "execution_count": 23
        },
        {
          "output_type": "display_data",
          "data": {
            "image/png": "[encoded data removed]",
            "text/plain": [
              "<Figure size 720x504 with 2 Axes>"
            ]
          },
          "metadata": {
            "tags": []
          }
        }
      ]
    },
    {
      "cell_type": "code",
      "metadata": {
        "id": "lsdKgbrFyWjr",
        "colab_type": "code",
        "outputId": "04524933-dcbd-45cd-f188-e657a443d54c",
        "colab": {
          "base_uri": "https://localhost:8080/",
          "height": 193
        }
      },
      "source": [
        "print(\"Classification Report\\n\",classification_report(test_Y_max, predictions, labels=[0,1], target_names = [\"Positive\",\"Negative\"]))"
      ],
      "execution_count": 24,
      "outputs": [
        {
          "output_type": "stream",
          "text": [
            "Classification Report\n",
            "               precision    recall  f1-score   support\n",
            "\n",
            "    Positive       0.43      0.42      0.42       578\n",
            "    Negative       0.71      0.73      0.72      1147\n",
            "\n",
            "    accuracy                           0.62      1725\n",
            "   macro avg       0.57      0.57      0.57      1725\n",
            "weighted avg       0.62      0.62      0.62      1725\n",
            "\n"
          ],
          "name": "stdout"
        }
      ]
    },
    {
      "cell_type": "code",
      "metadata": {
        "id": "AXbsDoCPkIS4",
        "colab_type": "code",
        "outputId": "2a880637-7afa-4f47-bae4-fbc8aa3e48b4",
        "colab": {
          "base_uri": "https://localhost:8080/",
          "height": 474
        }
      },
      "source": [
        "# code model here\n",
        "%cd /content/gdrive/My Drive/NLP/Assignment4\n",
        "EMBEDDING_DIM = 200\n",
        "LSTM_SIZE = 200\n",
        "embedding_matrix = loadGlove(\"glove.6B.200d.txt\",EMBEDDING_DIM=EMBEDDING_DIM,word_index=vocab)\n",
        "inputA = Input(shape=(maxlen,))\n",
        "inputB = Input(shape=(maxlen,))\n",
        "embedding_layer = Embedding(input_dim=vocab_size,output_dim=EMBEDDING_DIM,input_length=maxlen,weights=[embedding_matrix],\n",
        "                           trainable=True)\n",
        "shared_embedding_layer_1 = embedding_layer(inputA)\n",
        "shared_embedding_layer_2 = embedding_layer(inputB)\n",
        "\n",
        "shared_lstm = LSTM(LSTM_SIZE, return_sequences=True,return_state=True,recurrent_dropout=0.2)\n",
        "_,last1,_= shared_lstm(shared_embedding_layer_1)\n",
        "_,last2,_ = shared_lstm(shared_embedding_layer_2)\n",
        "concat = Concatenate()([last1,last2])\n",
        "out = Dense(2,activation = \"softmax\",name=\"model1\",)(concat)\n",
        "\n",
        "model = Model(inputs=[inputA,inputB],outputs=out)\n",
        "model.summary()\n"
      ],
      "execution_count": 25,
      "outputs": [
        {
          "output_type": "stream",
          "text": [
            "/content/gdrive/.shortcut-targets-by-id/1QU-Nm928liikIV4AYyrX-UOUxKStNUk_/NLP/Assignment4\n",
            "Found 400000 word vectors.\n",
            "WARNING:tensorflow:Layer lstm_1 will not use cuDNN kernel since it doesn't meet the cuDNN kernel criteria. It will use generic GPU kernel as fallback when running on GPU\n",
            "Model: \"model_1\"\n",
            "__________________________________________________________________________________________________\n",
            "Layer (type)                    Output Shape         Param #     Connected to                     \n",
            "==================================================================================================\n",
            "input_3 (InputLayer)            [(None, 20)]         0                                            \n",
            "__________________________________________________________________________________________________\n",
            "input_4 (InputLayer)            [(None, 20)]         0                                            \n",
            "__________________________________________________________________________________________________\n",
            "embedding_1 (Embedding)         (None, 20, 200)      2605800     input_3[0][0]                    \n",
            "                                                                 input_4[0][0]                    \n",
            "__________________________________________________________________________________________________\n",
            "lstm_1 (LSTM)                   [(None, 20, 200), (N 320800      embedding_1[0][0]                \n",
            "                                                                 embedding_1[1][0]                \n",
            "__________________________________________________________________________________________________\n",
            "concatenate_1 (Concatenate)     (None, 400)          0           lstm_1[0][1]                     \n",
            "                                                                 lstm_1[1][1]                     \n",
            "__________________________________________________________________________________________________\n",
            "model1 (Dense)                  (None, 2)            802         concatenate_1[0][0]              \n",
            "==================================================================================================\n",
            "Total params: 2,927,402\n",
            "Trainable params: 2,927,402\n",
            "Non-trainable params: 0\n",
            "__________________________________________________________________________________________________\n"
          ],
          "name": "stdout"
        }
      ]
    },
    {
      "cell_type": "code",
      "metadata": {
        "id": "K6rRcadhjoXy",
        "colab_type": "code",
        "outputId": "9832ed7e-d87a-4cf6-e9e8-6d609ff2affd",
        "colab": {
          "base_uri": "https://localhost:8080/",
          "height": 826
        }
      },
      "source": [
        "%cd /content/gdrive/My Drive/Results\n",
        "model.compile(optimizer=\"Adam\",loss=\"categorical_crossentropy\",metrics=[\"accuracy\"])\n",
        "from tensorflow.keras.callbacks import ModelCheckpoint, EarlyStopping, CSVLogger, ReduceLROnPlateau\n",
        "filepath = \"setting_\" + \"model2\" + \".hdf5\"\n",
        "logfilepath = \"setting_\"+\"model2\" + \".csv\"\n",
        "reduce_lr_rate=0.2\n",
        "logCallback = CSVLogger(logfilepath, separator=',', append=False)\n",
        "earlyStopping = EarlyStopping(monitor='val_accuracy', min_delta=0, patience=10, verbose=0, mode='auto')\n",
        "checkpoint = ModelCheckpoint(filepath, monitor='val_accuracy', save_weights_only=True, verbose=1,\n",
        "                             save_best_only=True, mode='auto')\n",
        "reduce_lr = ReduceLROnPlateau(monitor='val_loss', factor=reduce_lr_rate, patience=10,\n",
        "                              cooldown=0, min_lr=0.0000000001, verbose=0)\n",
        "\n",
        "callbacks_list = [logCallback, earlyStopping, reduce_lr, checkpoint]\n",
        "model.fit([padded_X_train1,padded_X_train2],y_trainhot,epochs=100, batch_size=32,\n",
        "                verbose=1,shuffle=True,callbacks=callbacks_list,\n",
        "             validation_data=([padded_X_val1,padded_X_val2],y_valhot),use_multprocessing=True)"
      ],
      "execution_count": 26,
      "outputs": [
        {
          "output_type": "stream",
          "text": [
            "/content/gdrive/My Drive/Results\n",
            "Epoch 1/100\n",
            "115/115 [==============================] - ETA: 0s - loss: 0.6133 - accuracy: 0.6878\n",
            "Epoch 00001: val_accuracy improved from -inf to 0.69608, saving model to setting_model2.hdf5\n",
            "115/115 [==============================] - 19s 169ms/step - loss: 0.6133 - accuracy: 0.6878 - val_loss: 0.6018 - val_accuracy: 0.6961 - lr: 0.0010\n",
            "Epoch 2/100\n",
            "115/115 [==============================] - ETA: 0s - loss: 0.3756 - accuracy: 0.8405\n",
            "Epoch 00002: val_accuracy did not improve from 0.69608\n",
            "115/115 [==============================] - 18s 157ms/step - loss: 0.3756 - accuracy: 0.8405 - val_loss: 0.8637 - val_accuracy: 0.6250 - lr: 0.0010\n",
            "Epoch 3/100\n",
            "115/115 [==============================] - ETA: 0s - loss: 0.1569 - accuracy: 0.9422\n",
            "Epoch 00003: val_accuracy did not improve from 0.69608\n",
            "115/115 [==============================] - 18s 155ms/step - loss: 0.1569 - accuracy: 0.9422 - val_loss: 0.8483 - val_accuracy: 0.5907 - lr: 0.0010\n",
            "Epoch 4/100\n",
            "115/115 [==============================] - ETA: 0s - loss: 0.0833 - accuracy: 0.9733\n",
            "Epoch 00004: val_accuracy did not improve from 0.69608\n",
            "115/115 [==============================] - 18s 157ms/step - loss: 0.0833 - accuracy: 0.9733 - val_loss: 1.4045 - val_accuracy: 0.6127 - lr: 0.0010\n",
            "Epoch 5/100\n",
            "115/115 [==============================] - ETA: 0s - loss: 0.0471 - accuracy: 0.9869\n",
            "Epoch 00005: val_accuracy did not improve from 0.69608\n",
            "115/115 [==============================] - 18s 157ms/step - loss: 0.0471 - accuracy: 0.9869 - val_loss: 1.1583 - val_accuracy: 0.6348 - lr: 0.0010\n",
            "Epoch 6/100\n",
            "115/115 [==============================] - ETA: 0s - loss: 0.0300 - accuracy: 0.9915\n",
            "Epoch 00006: val_accuracy did not improve from 0.69608\n",
            "115/115 [==============================] - 18s 157ms/step - loss: 0.0300 - accuracy: 0.9915 - val_loss: 1.4196 - val_accuracy: 0.6275 - lr: 0.0010\n",
            "Epoch 7/100\n",
            "115/115 [==============================] - ETA: 0s - loss: 0.0182 - accuracy: 0.9935\n",
            "Epoch 00007: val_accuracy did not improve from 0.69608\n",
            "115/115 [==============================] - 18s 157ms/step - loss: 0.0182 - accuracy: 0.9935 - val_loss: 1.9054 - val_accuracy: 0.6446 - lr: 0.0010\n",
            "Epoch 8/100\n",
            "115/115 [==============================] - ETA: 0s - loss: 0.0133 - accuracy: 0.9962\n",
            "Epoch 00008: val_accuracy did not improve from 0.69608\n",
            "115/115 [==============================] - 18s 158ms/step - loss: 0.0133 - accuracy: 0.9962 - val_loss: 2.1701 - val_accuracy: 0.6446 - lr: 0.0010\n",
            "Epoch 9/100\n",
            "115/115 [==============================] - ETA: 0s - loss: 0.0146 - accuracy: 0.9956\n",
            "Epoch 00009: val_accuracy did not improve from 0.69608\n",
            "115/115 [==============================] - 18s 158ms/step - loss: 0.0146 - accuracy: 0.9956 - val_loss: 1.7197 - val_accuracy: 0.6373 - lr: 0.0010\n",
            "Epoch 10/100\n",
            "115/115 [==============================] - ETA: 0s - loss: 0.0089 - accuracy: 0.9970\n",
            "Epoch 00010: val_accuracy did not improve from 0.69608\n",
            "115/115 [==============================] - 18s 157ms/step - loss: 0.0089 - accuracy: 0.9970 - val_loss: 2.1875 - val_accuracy: 0.6642 - lr: 0.0010\n",
            "Epoch 11/100\n",
            "115/115 [==============================] - ETA: 0s - loss: 0.0220 - accuracy: 0.9937\n",
            "Epoch 00011: val_accuracy did not improve from 0.69608\n",
            "115/115 [==============================] - 18s 157ms/step - loss: 0.0220 - accuracy: 0.9937 - val_loss: 1.5378 - val_accuracy: 0.6275 - lr: 0.0010\n"
          ],
          "name": "stdout"
        },
        {
          "output_type": "execute_result",
          "data": {
            "text/plain": [
              "<tensorflow.python.keras.callbacks.History at 0x7fc222eefb70>"
            ]
          },
          "metadata": {
            "tags": []
          },
          "execution_count": 26
        }
      ]
    },
    {
      "cell_type": "markdown",
      "metadata": {
        "id": "gmot8inGY0YE",
        "colab_type": "text"
      },
      "source": [
        "Use the <b>model.predict</b> method to get predictions. There predictions will be a probability distribution over the lables, to get the desired class take the max value in a prediction vector as the predicted class.<br>"
      ]
    },
    {
      "cell_type": "code",
      "metadata": {
        "id": "d2g0MJCvY0YF",
        "colab_type": "code",
        "outputId": "58d78720-05fd-4e36-a249-2243fde6bfc2",
        "colab": {
          "base_uri": "https://localhost:8080/",
          "height": 489
        }
      },
      "source": [
        "#predictions = code here\n",
        "labelList=[0,1]\n",
        "predictions = model.predict([padded_X_test1,padded_X_test2])\n",
        "from sklearn.metrics import confusion_matrix\n",
        "predictions = np.argmax(predictions,axis=-1)\n",
        "test_Y_max=np.argmax(y_testhot, axis=-1)\n",
        "cm=confusion_matrix(test_Y_max,predictions)\n",
        "cm = cm.astype('float') / cm.sum(axis=1)[:, np.newaxis]\n",
        "cm = pd.DataFrame(cm, labelList,labelList )# matrix,names row,names col,\n",
        "plt.figure(figsize=(10,7))\n",
        "sn.set(font_scale=1.4) # for label size\n",
        "sn.heatmap(cm, annot=True, annot_kws={\"size\": 11}, fmt=\".2f\") # font size\n",
        "plt.show()\n",
        "print(cm)"
      ],
      "execution_count": 27,
      "outputs": [
        {
          "output_type": "display_data",
          "data": {
            "image/png": "[encoded data removed]",
            "text/plain": [
              "<Figure size 720x504 with 2 Axes>"
            ]
          },
          "metadata": {
            "tags": []
          }
        },
        {
          "output_type": "stream",
          "text": [
            "          0         1\n",
            "0  0.410035  0.589965\n",
            "1  0.264167  0.735833\n"
          ],
          "name": "stdout"
        }
      ]
    },
    {
      "cell_type": "code",
      "metadata": {
        "id": "YBj0p1wCY0YI",
        "colab_type": "code",
        "outputId": "24182037-785b-4d6c-bb6f-33247de2281d",
        "colab": {
          "base_uri": "https://localhost:8080/",
          "height": 193
        }
      },
      "source": [
        "print(\"Classification Report\\n\",classification_report(test_Y_max, predictions, labels=[0,1], target_names = [\"Positive\",\"Negative\"]))"
      ],
      "execution_count": 28,
      "outputs": [
        {
          "output_type": "stream",
          "text": [
            "Classification Report\n",
            "               precision    recall  f1-score   support\n",
            "\n",
            "    Positive       0.44      0.41      0.42       578\n",
            "    Negative       0.71      0.74      0.72      1147\n",
            "\n",
            "    accuracy                           0.63      1725\n",
            "   macro avg       0.58      0.57      0.57      1725\n",
            "weighted avg       0.62      0.63      0.62      1725\n",
            "\n"
          ],
          "name": "stdout"
        }
      ]
    },
    {
      "cell_type": "code",
      "metadata": {
        "id": "NzUC9lpQqSus",
        "colab_type": "code",
        "outputId": "707418b9-cb35-4c14-d84b-19a3647b8321",
        "colab": {
          "base_uri": "https://localhost:8080/",
          "height": 545
        }
      },
      "source": [
        "# code model here\n",
        "%cd /content/gdrive/My Drive/NLP/Assignment4\n",
        "EMBEDDING_DIM = 300\n",
        "LSTM_SIZE = 300\n",
        "embedding_matrix = loadGlove(\"glove.6B.300d.txt\",EMBEDDING_DIM=EMBEDDING_DIM,word_index=vocab)\n",
        "inputA = Input(shape=(maxlen,))\n",
        "inputB = Input(shape=(maxlen,))\n",
        "embedding_layer = Embedding(input_dim=vocab_size,output_dim=EMBEDDING_DIM,input_length=maxlen,weights=[embedding_matrix],\n",
        "                           trainable=True)\n",
        "shared_embedding_layer_1 = embedding_layer(inputA)\n",
        "shared_embedding_layer_2 = embedding_layer(inputB)\n",
        "\n",
        "shared_lstm = Bidirectional(LSTM(LSTM_SIZE, return_sequences=True,return_state=True,recurrent_dropout=0.2))\n",
        "_,last11,_,last12,_ = shared_lstm(shared_embedding_layer_1)\n",
        "_,last21,_,last22,_ = shared_lstm(shared_embedding_layer_2)\n",
        "concat = Concatenate()([last11,last12,last21,last22])\n",
        "out = Dense(2,activation = \"softmax\",name=\"model1\",)(concat)\n",
        "\n",
        "model = Model(inputs=[inputA,inputB],outputs=out)\n",
        "model.summary()\n"
      ],
      "execution_count": 29,
      "outputs": [
        {
          "output_type": "stream",
          "text": [
            "/content/gdrive/.shortcut-targets-by-id/1QU-Nm928liikIV4AYyrX-UOUxKStNUk_/NLP/Assignment4\n",
            "Found 400000 word vectors.\n",
            "WARNING:tensorflow:Layer lstm_2 will not use cuDNN kernel since it doesn't meet the cuDNN kernel criteria. It will use generic GPU kernel as fallback when running on GPU\n",
            "WARNING:tensorflow:Layer lstm_2 will not use cuDNN kernel since it doesn't meet the cuDNN kernel criteria. It will use generic GPU kernel as fallback when running on GPU\n",
            "WARNING:tensorflow:Layer lstm_2 will not use cuDNN kernel since it doesn't meet the cuDNN kernel criteria. It will use generic GPU kernel as fallback when running on GPU\n",
            "Model: \"model_2\"\n",
            "__________________________________________________________________________________________________\n",
            "Layer (type)                    Output Shape         Param #     Connected to                     \n",
            "==================================================================================================\n",
            "input_5 (InputLayer)            [(None, 20)]         0                                            \n",
            "__________________________________________________________________________________________________\n",
            "input_6 (InputLayer)            [(None, 20)]         0                                            \n",
            "__________________________________________________________________________________________________\n",
            "embedding_2 (Embedding)         (None, 20, 300)      3908700     input_5[0][0]                    \n",
            "                                                                 input_6[0][0]                    \n",
            "__________________________________________________________________________________________________\n",
            "bidirectional (Bidirectional)   [(None, 20, 600), (N 1442400     embedding_2[0][0]                \n",
            "                                                                 embedding_2[1][0]                \n",
            "__________________________________________________________________________________________________\n",
            "concatenate_2 (Concatenate)     (None, 1200)         0           bidirectional[0][1]              \n",
            "                                                                 bidirectional[0][3]              \n",
            "                                                                 bidirectional[1][1]              \n",
            "                                                                 bidirectional[1][3]              \n",
            "__________________________________________________________________________________________________\n",
            "model1 (Dense)                  (None, 2)            2402        concatenate_2[0][0]              \n",
            "==================================================================================================\n",
            "Total params: 5,353,502\n",
            "Trainable params: 5,353,502\n",
            "Non-trainable params: 0\n",
            "__________________________________________________________________________________________________\n"
          ],
          "name": "stdout"
        }
      ]
    },
    {
      "cell_type": "code",
      "metadata": {
        "id": "xl_huyYuqXvR",
        "colab_type": "code",
        "outputId": "6a04338e-7199-43cb-886c-827993bb9391",
        "colab": {
          "base_uri": "https://localhost:8080/",
          "height": 826
        }
      },
      "source": [
        "%cd /content/gdrive/My Drive/Results\n",
        "model.compile(optimizer=\"Adam\",loss=\"categorical_crossentropy\",metrics=[\"accuracy\"])\n",
        "from tensorflow.keras.callbacks import ModelCheckpoint, EarlyStopping, CSVLogger, ReduceLROnPlateau\n",
        "filepath = \"setting_\" + \"model3\" + \".hdf5\"\n",
        "logfilepath = \"setting_\"+\"model3\" + \".csv\"\n",
        "reduce_lr_rate=0.2\n",
        "logCallback = CSVLogger(logfilepath, separator=',', append=False)\n",
        "earlyStopping = EarlyStopping(monitor='val_accuracy', min_delta=0, patience=10, verbose=0, mode='auto')\n",
        "checkpoint = ModelCheckpoint(filepath, monitor='val_accuracy', save_weights_only=True, verbose=1,\n",
        "                             save_best_only=True, mode='auto')\n",
        "reduce_lr = ReduceLROnPlateau(monitor='val_loss', factor=reduce_lr_rate, patience=10,\n",
        "                              cooldown=0, min_lr=0.0000000001, verbose=0)\n",
        "\n",
        "callbacks_list = [logCallback, earlyStopping, reduce_lr, checkpoint]\n",
        "model.fit([padded_X_train1,padded_X_train2],y_trainhot,epochs=100, batch_size=32,\n",
        "                verbose=1,shuffle=True,callbacks=callbacks_list,\n",
        "             validation_data=([padded_X_val1,padded_X_val2],y_valhot),use_multprocessing=True)"
      ],
      "execution_count": 30,
      "outputs": [
        {
          "output_type": "stream",
          "text": [
            "/content/gdrive/My Drive/Results\n",
            "Epoch 1/100\n",
            "115/115 [==============================] - ETA: 0s - loss: 0.6140 - accuracy: 0.6881\n",
            "Epoch 00001: val_accuracy improved from -inf to 0.69363, saving model to setting_model3.hdf5\n",
            "115/115 [==============================] - 36s 312ms/step - loss: 0.6140 - accuracy: 0.6881 - val_loss: 0.6057 - val_accuracy: 0.6936 - lr: 0.0010\n",
            "Epoch 2/100\n",
            "115/115 [==============================] - ETA: 0s - loss: 0.3568 - accuracy: 0.8525\n",
            "Epoch 00002: val_accuracy did not improve from 0.69363\n",
            "115/115 [==============================] - 34s 296ms/step - loss: 0.3568 - accuracy: 0.8525 - val_loss: 0.8058 - val_accuracy: 0.6814 - lr: 0.0010\n",
            "Epoch 3/100\n",
            "115/115 [==============================] - ETA: 0s - loss: 0.1081 - accuracy: 0.9656\n",
            "Epoch 00003: val_accuracy did not improve from 0.69363\n",
            "115/115 [==============================] - 34s 296ms/step - loss: 0.1081 - accuracy: 0.9656 - val_loss: 0.9525 - val_accuracy: 0.6225 - lr: 0.0010\n",
            "Epoch 4/100\n",
            "115/115 [==============================] - ETA: 0s - loss: 0.0362 - accuracy: 0.9885\n",
            "Epoch 00004: val_accuracy did not improve from 0.69363\n",
            "115/115 [==============================] - 34s 295ms/step - loss: 0.0362 - accuracy: 0.9885 - val_loss: 1.1426 - val_accuracy: 0.6054 - lr: 0.0010\n",
            "Epoch 5/100\n",
            "115/115 [==============================] - ETA: 0s - loss: 0.0279 - accuracy: 0.9935\n",
            "Epoch 00005: val_accuracy did not improve from 0.69363\n",
            "115/115 [==============================] - 34s 296ms/step - loss: 0.0279 - accuracy: 0.9935 - val_loss: 1.6110 - val_accuracy: 0.6324 - lr: 0.0010\n",
            "Epoch 6/100\n",
            "115/115 [==============================] - ETA: 0s - loss: 0.0156 - accuracy: 0.9948\n",
            "Epoch 00006: val_accuracy did not improve from 0.69363\n",
            "115/115 [==============================] - 34s 299ms/step - loss: 0.0156 - accuracy: 0.9948 - val_loss: 1.6825 - val_accuracy: 0.6078 - lr: 0.0010\n",
            "Epoch 7/100\n",
            "115/115 [==============================] - ETA: 0s - loss: 0.0148 - accuracy: 0.9959\n",
            "Epoch 00007: val_accuracy did not improve from 0.69363\n",
            "115/115 [==============================] - 34s 297ms/step - loss: 0.0148 - accuracy: 0.9959 - val_loss: 1.9395 - val_accuracy: 0.6201 - lr: 0.0010\n",
            "Epoch 8/100\n",
            "115/115 [==============================] - ETA: 0s - loss: 0.0089 - accuracy: 0.9978\n",
            "Epoch 00008: val_accuracy did not improve from 0.69363\n",
            "115/115 [==============================] - 34s 296ms/step - loss: 0.0089 - accuracy: 0.9978 - val_loss: 1.7748 - val_accuracy: 0.6225 - lr: 0.0010\n",
            "Epoch 9/100\n",
            "115/115 [==============================] - ETA: 0s - loss: 0.0076 - accuracy: 0.9973\n",
            "Epoch 00009: val_accuracy did not improve from 0.69363\n",
            "115/115 [==============================] - 34s 296ms/step - loss: 0.0076 - accuracy: 0.9973 - val_loss: 1.9200 - val_accuracy: 0.6078 - lr: 0.0010\n",
            "Epoch 10/100\n",
            "115/115 [==============================] - ETA: 0s - loss: 0.0104 - accuracy: 0.9965\n",
            "Epoch 00010: val_accuracy did not improve from 0.69363\n",
            "115/115 [==============================] - 34s 296ms/step - loss: 0.0104 - accuracy: 0.9965 - val_loss: 1.6696 - val_accuracy: 0.6324 - lr: 0.0010\n",
            "Epoch 11/100\n",
            "115/115 [==============================] - ETA: 0s - loss: 0.0082 - accuracy: 0.9970\n",
            "Epoch 00011: val_accuracy did not improve from 0.69363\n",
            "115/115 [==============================] - 34s 297ms/step - loss: 0.0082 - accuracy: 0.9970 - val_loss: 1.7104 - val_accuracy: 0.6324 - lr: 0.0010\n"
          ],
          "name": "stdout"
        },
        {
          "output_type": "execute_result",
          "data": {
            "text/plain": [
              "<tensorflow.python.keras.callbacks.History at 0x7fc222122358>"
            ]
          },
          "metadata": {
            "tags": []
          },
          "execution_count": 30
        }
      ]
    },
    {
      "cell_type": "code",
      "metadata": {
        "id": "_lreHxSS0nFY",
        "colab_type": "code",
        "outputId": "a4e71822-940d-4c60-bd67-aff253170b26",
        "colab": {
          "base_uri": "https://localhost:8080/",
          "height": 489
        }
      },
      "source": [
        "#predictions = code here\n",
        "labelList=[0,1]\n",
        "predictions = model.predict([padded_X_test1,padded_X_test2])\n",
        "from sklearn.metrics import confusion_matrix\n",
        "predictions = np.argmax(predictions,axis=-1)\n",
        "test_Y_max=np.argmax(y_testhot, axis=-1)\n",
        "cm=confusion_matrix(test_Y_max,predictions)\n",
        "cm = cm.astype('float') / cm.sum(axis=1)[:, np.newaxis]\n",
        "cm = pd.DataFrame(cm, labelList,labelList )# matrix,names row,names col,\n",
        "plt.figure(figsize=(10,7))\n",
        "sn.set(font_scale=1.4) # for label size\n",
        "sn.heatmap(cm, annot=True, annot_kws={\"size\": 11}, fmt=\".2f\") # font size\n",
        "plt.show()\n",
        "print(cm)"
      ],
      "execution_count": 31,
      "outputs": [
        {
          "output_type": "display_data",
          "data": {
            "image/png": "[encoded data removed]",
            "text/plain": [
              "<Figure size 720x504 with 2 Axes>"
            ]
          },
          "metadata": {
            "tags": []
          }
        },
        {
          "output_type": "stream",
          "text": [
            "          0         1\n",
            "0  0.371972  0.628028\n",
            "1  0.218832  0.781168\n"
          ],
          "name": "stdout"
        }
      ]
    },
    {
      "cell_type": "code",
      "metadata": {
        "id": "y5BOJDiU0shn",
        "colab_type": "code",
        "outputId": "3fda21f8-42ef-457e-9fe4-afe915b64e02",
        "colab": {
          "base_uri": "https://localhost:8080/",
          "height": 193
        }
      },
      "source": [
        "print(\"Classification Report\\n\",classification_report(test_Y_max, predictions, labels=[0,1], target_names = [\"Positive\",\"Negative\"]))"
      ],
      "execution_count": 32,
      "outputs": [
        {
          "output_type": "stream",
          "text": [
            "Classification Report\n",
            "               precision    recall  f1-score   support\n",
            "\n",
            "    Positive       0.46      0.37      0.41       578\n",
            "    Negative       0.71      0.78      0.74      1147\n",
            "\n",
            "    accuracy                           0.64      1725\n",
            "   macro avg       0.59      0.58      0.58      1725\n",
            "weighted avg       0.63      0.64      0.63      1725\n",
            "\n"
          ],
          "name": "stdout"
        }
      ]
    },
    {
      "cell_type": "markdown",
      "metadata": {
        "id": "U9wE6rzwY0YN",
        "colab_type": "text"
      },
      "source": [
        "# Task 2 Sentiment Classification\n",
        "For this task we will be reusing the movie reviews dataset available on <a href=\"https://www.kaggle.com/c/word2vec-nlp-tutorial/data\">kaggle</a> and download the dataset from there. \n",
        "We will be using the unlabeledTrainData file and labeledTrainData file. We will use the gensim package to train word2vec embeddings using [gensim](https://radimrehurek.com/gensim/) package and unlabelled train data as in the previous assignmnet. Now instead for creating a single representation for each review we will be using deep learning models for this task. We will use the same archetecture as before but will experiment with different reccurant networks namely RNN, GRU and LSTM.<br> This task might feel like <a href=\"https://ibb.co/Tgh2XyH\">this</a> but since this is a deep learning assignment thus we must use it.\n",
        "<h3>Data Preperation</h3>\n",
        "<ul>\n",
        "    <li> First we need to preprocess the data, convert the data to lower casing(both files). Any other preprocessing procedures are optional but keep in mind that this will affect the performance of your model.</li>\n",
        "    <li> Split the labeledTrainData data file into test, train and validation in the ratio 20,70,10. Use <a href=\"https://scikit-learn.org/stable/modules/generated/sklearn.model_selection.train_test_split.html\">scikit_test_train_split</a> <br><i><b>Hint:</b> use the splitter twice to get desired data splits.</i></li>\n",
        "    <li> Next we need the vocabulary, vocabulary size and to convert sentences to numeric sequences by representing each word with a numeric value which will make our implementation easier later on, use <a href=\"https://www.tensorflow.org/api_docs/python/tf/keras/preprocessing/text/Tokenizer\">Tokenizer</a> from keras. <br><i>(Fit the tokenizer on train data and use the same tokenizer to convert train,test and validation data to numeric sequences)</i> </li>\n",
        "    <li>  Use <a href=\"https://www.tensorflow.org/api_docs/python/tf/keras/preprocessing/sequence/pad_sequences\"> pad sequences</a> to add post padding to all sentences that are shorter than maximum sequence length</li>\n",
        "    <li> Use one hot representation for targets/labels, you can use <a href=\"https://scikit-learn.org/stable/modules/generated/sklearn.preprocessing.OneHotEncoder.html\">scikit learn</a> or <a href=\"https://www.tensorflow.org/api_docs/python/tf/keras/preprocessing\">keras preprocessing</a>.</li>\n",
        "</ul>\n",
        "<h3>Loading embeddings</h3>\n",
        "<ul>\n",
        "    <li> As state before use the gensim package to train the word2vec model on unlabelledTrainData file</li>\n",
        "    <li> Next we will create a dictionary for our dataset's vocabulary. Copy all the word embeddings for words that are in our vocabulary and in the word2vec model, if a word exists in our vocabulary but does not exist in word2vec model create a zero vector of embedding dimension size and add it to the dictionary.</li>\n",
        "</ul>\n",
        "<h3>Create Model</h3>\n",
        "<ul>\n",
        "    <li> Here is a visual for the model <img src=\"sentimentdeep.png\">\n",
        "    <li> Create the model using <a href\"https://www.tensorflow.org/guide/keras/functional\">functional API</a> or the <a href=\"https://www.tensorflow.org/api_docs/python/tf/keras/Sequential\">Sequential API</a></li>\n",
        "    <li> Hints: The emebedding layer has a parameter that allows you to use pretrained embeddings</li>\n",
        "\n"
      ]
    },
    {
      "cell_type": "markdown",
      "metadata": {
        "id": "5ITbPsPSY0YP",
        "colab_type": "text"
      },
      "source": [
        "Use can reuse the code snippets from above for call backs, prediction heat map and classification report\n",
        "<i>You will have provide a label list for this specific dataset inorder for them to run, you are to make the required changes yourself</i>"
      ]
    },
    {
      "cell_type": "code",
      "metadata": {
        "id": "KmFSPUkWYY_K",
        "colab_type": "code",
        "outputId": "cbcc96eb-f529-4441-951b-5d82e87ee659",
        "colab": {
          "base_uri": "https://localhost:8080/",
          "height": 34
        }
      },
      "source": [
        "%cd /content/gdrive/My Drive/NLP/Assignment4"
      ],
      "execution_count": 33,
      "outputs": [
        {
          "output_type": "stream",
          "text": [
            "/content/gdrive/.shortcut-targets-by-id/1QU-Nm928liikIV4AYyrX-UOUxKStNUk_/NLP/Assignment4\n"
          ],
          "name": "stdout"
        }
      ]
    },
    {
      "cell_type": "code",
      "metadata": {
        "id": "z3UXkibDY0YR",
        "colab_type": "code",
        "colab": {}
      },
      "source": [
        "dft2 = pd.read_csv(\"labeledTrainData.tsv\",sep=\"\\t\")\n"
      ],
      "execution_count": 0,
      "outputs": []
    },
    {
      "cell_type": "code",
      "metadata": {
        "id": "Ra0hwa8WY0YV",
        "colab_type": "code",
        "colab": {}
      },
      "source": [
        "del(dft2['id'])"
      ],
      "execution_count": 0,
      "outputs": []
    },
    {
      "cell_type": "code",
      "metadata": {
        "id": "Cih_9xqpcBf6",
        "colab_type": "code",
        "colab": {}
      },
      "source": [
        "def preprocessing(data):\n",
        "    \"\"\"\n",
        "    Return preprocessed data\n",
        "\n",
        "    Args:\n",
        "        data : sentence pairs\n",
        "    \n",
        "    Returns: preprocessed_data\n",
        "    preprocessed_data : preprocessed dataset \n",
        "    \"\"\"\n",
        "    #Doing the bare minimum pre-processing. Rest to be done in tokenizer/padding \n",
        "    data['review'] = data['review'].str.lower()\n",
        "    return data"
      ],
      "execution_count": 0,
      "outputs": []
    },
    {
      "cell_type": "code",
      "metadata": {
        "id": "tqfnvanNY0YY",
        "colab_type": "code",
        "outputId": "6f1c9c46-2511-45d7-a24c-1493e79b309a",
        "colab": {
          "base_uri": "https://localhost:8080/",
          "height": 122
        }
      },
      "source": [
        "dft2.head()\n",
        "x = dft2[['review']]\n",
        "y = dft2[['sentiment']]\n",
        "x = preprocessing(x)"
      ],
      "execution_count": 37,
      "outputs": [
        {
          "output_type": "stream",
          "text": [
            "/usr/local/lib/python3.6/dist-packages/ipykernel_launcher.py:12: SettingWithCopyWarning: \n",
            "A value is trying to be set on a copy of a slice from a DataFrame.\n",
            "Try using .loc[row_indexer,col_indexer] = value instead\n",
            "\n",
            "See the caveats in the documentation: https://pandas.pydata.org/pandas-docs/stable/user_guide/indexing.html#returning-a-view-versus-a-copy\n",
            "  if sys.path[0] == '':\n"
          ],
          "name": "stderr"
        }
      ]
    },
    {
      "cell_type": "code",
      "metadata": {
        "id": "Yx8UFpfvftAY",
        "colab_type": "code",
        "outputId": "de388025-e8f2-43c9-e127-105729d056eb",
        "colab": {
          "base_uri": "https://localhost:8080/",
          "height": 195
        }
      },
      "source": [
        "x.head()"
      ],
      "execution_count": 38,
      "outputs": [
        {
          "output_type": "execute_result",
          "data": {
            "text/html": [
              "<div>\n",
              "<style scoped>\n",
              "    .dataframe tbody tr th:only-of-type {\n",
              "        vertical-align: middle;\n",
              "    }\n",
              "\n",
              "    .dataframe tbody tr th {\n",
              "        vertical-align: top;\n",
              "    }\n",
              "\n",
              "    .dataframe thead th {\n",
              "        text-align: right;\n",
              "    }\n",
              "</style>\n",
              "<table border=\"1\" class=\"dataframe\">\n",
              "  <thead>\n",
              "    <tr style=\"text-align: right;\">\n",
              "      <th></th>\n",
              "      <th>review</th>\n",
              "    </tr>\n",
              "  </thead>\n",
              "  <tbody>\n",
              "    <tr>\n",
              "      <th>0</th>\n",
              "      <td>with all this stuff going down at the moment w...</td>\n",
              "    </tr>\n",
              "    <tr>\n",
              "      <th>1</th>\n",
              "      <td>\\the classic war of the worlds\\\" by timothy hi...</td>\n",
              "    </tr>\n",
              "    <tr>\n",
              "      <th>2</th>\n",
              "      <td>the film starts with a manager (nicholas bell)...</td>\n",
              "    </tr>\n",
              "    <tr>\n",
              "      <th>3</th>\n",
              "      <td>it must be assumed that those who praised this...</td>\n",
              "    </tr>\n",
              "    <tr>\n",
              "      <th>4</th>\n",
              "      <td>superbly trashy and wondrously unpretentious 8...</td>\n",
              "    </tr>\n",
              "  </tbody>\n",
              "</table>\n",
              "</div>"
            ],
            "text/plain": [
              "                                              review\n",
              "0  with all this stuff going down at the moment w...\n",
              "1  \\the classic war of the worlds\\\" by timothy hi...\n",
              "2  the film starts with a manager (nicholas bell)...\n",
              "3  it must be assumed that those who praised this...\n",
              "4  superbly trashy and wondrously unpretentious 8..."
            ]
          },
          "metadata": {
            "tags": []
          },
          "execution_count": 38
        }
      ]
    },
    {
      "cell_type": "code",
      "metadata": {
        "id": "u3GtCHTHZ400",
        "colab_type": "code",
        "colab": {}
      },
      "source": [
        "def testTrainSplit1(data_X,data_Y):\n",
        "    \"\"\"\n",
        "    Return test train data\n",
        "\n",
        "    Args:\n",
        "        data_X : sentence pairs\n",
        "        data_Y: labels\n",
        "        \n",
        "    Returns: test train and validation split data \n",
        "    \"\"\"\n",
        "    #Training this bish function to do 70,20,10 split\n",
        "    X_train, X_val, y_train, y_val = train_test_split(data_X, data_Y, test_size=0.1, random_state=1)\n",
        "    X_train,X_test,y_train,y_test = train_test_split(data_X,data_Y,test_size=0.22,random_state=1) #0.22*0.9 ~= 20 percent of original data. Consecutive discount  \n",
        "    return X_train,X_test,X_val,y_train,y_test,y_val"
      ],
      "execution_count": 0,
      "outputs": []
    },
    {
      "cell_type": "code",
      "metadata": {
        "id": "n9PHLYO7bv1E",
        "colab_type": "code",
        "colab": {}
      },
      "source": [
        "X_train,X_test,X_val,y_train,y_test,y_val = testTrainSplit1(x,y)"
      ],
      "execution_count": 0,
      "outputs": []
    },
    {
      "cell_type": "code",
      "metadata": {
        "id": "aVQYJkf4clsn",
        "colab_type": "code",
        "colab": {}
      },
      "source": [
        "def combineList(X):\n",
        "    #Joining the sentences into a list of list \n",
        "    slist = []\n",
        "    for val in X['review']:\n",
        "        slist.append(str(val))\n",
        "    return slist\n"
      ],
      "execution_count": 0,
      "outputs": []
    },
    {
      "cell_type": "code",
      "metadata": {
        "id": "jfqD83QDd7bO",
        "colab_type": "code",
        "colab": {}
      },
      "source": [
        "X_train_list = combineList(X_train)\n",
        "X_test_list = combineList(X_test)\n",
        "X_val_list = combineList(X_val)\n",
        "y_trainhot = to_categorical(y_train)\n",
        "y_testhot = to_categorical(y_test)\n",
        "y_valhot = to_categorical(y_val)"
      ],
      "execution_count": 0,
      "outputs": []
    },
    {
      "cell_type": "code",
      "metadata": {
        "id": "SQock5l8eJIZ",
        "colab_type": "code",
        "colab": {}
      },
      "source": [
        "padded_X_train,padded_X_test,padded_X_val,vocab,vocab_size = doMagic(X_train_list,X_test_list,X_val_list)"
      ],
      "execution_count": 0,
      "outputs": []
    },
    {
      "cell_type": "code",
      "metadata": {
        "id": "HZfHHrblhtzx",
        "colab_type": "code",
        "colab": {
          "base_uri": "https://localhost:8080/",
          "height": 34
        },
        "outputId": "5520a5b5-d838-4b87-f3ea-7789b4873f65"
      },
      "source": [
        "unlabeledTrain = pd.read_csv(\"unlabeledTrainData.tsv\",sep=\"\\t\",error_bad_lines=False)\n",
        "unlabeledTrain.head()\n",
        "del unlabeledTrain['id']\n",
        "unlabeledTrain = preprocessing(unlabeledTrain)"
      ],
      "execution_count": 44,
      "outputs": [
        {
          "output_type": "stream",
          "text": [
            "b'Skipping line 43043: expected 2 fields, saw 3\\n'\n"
          ],
          "name": "stderr"
        }
      ]
    },
    {
      "cell_type": "code",
      "metadata": {
        "id": "w0Bhdjbd33Xj",
        "colab_type": "code",
        "colab": {
          "base_uri": "https://localhost:8080/",
          "height": 195
        },
        "outputId": "b74ec0d0-f34c-4b7d-e116-9ed7b6eb98c6"
      },
      "source": [
        "len(unlabeledTrain)\n",
        "unlabeledTrain.head()"
      ],
      "execution_count": 45,
      "outputs": [
        {
          "output_type": "execute_result",
          "data": {
            "text/html": [
              "<div>\n",
              "<style scoped>\n",
              "    .dataframe tbody tr th:only-of-type {\n",
              "        vertical-align: middle;\n",
              "    }\n",
              "\n",
              "    .dataframe tbody tr th {\n",
              "        vertical-align: top;\n",
              "    }\n",
              "\n",
              "    .dataframe thead th {\n",
              "        text-align: right;\n",
              "    }\n",
              "</style>\n",
              "<table border=\"1\" class=\"dataframe\">\n",
              "  <thead>\n",
              "    <tr style=\"text-align: right;\">\n",
              "      <th></th>\n",
              "      <th>review</th>\n",
              "    </tr>\n",
              "  </thead>\n",
              "  <tbody>\n",
              "    <tr>\n",
              "      <th>0</th>\n",
              "      <td>watching time chasers, it obvious that it was ...</td>\n",
              "    </tr>\n",
              "    <tr>\n",
              "      <th>1</th>\n",
              "      <td>i saw this film about 20 years ago and remembe...</td>\n",
              "    </tr>\n",
              "    <tr>\n",
              "      <th>2</th>\n",
              "      <td>minor spoilers&lt;br /&gt;&lt;br /&gt;in new york, joan ba...</td>\n",
              "    </tr>\n",
              "    <tr>\n",
              "      <th>3</th>\n",
              "      <td>i went to see this film with a great deal of e...</td>\n",
              "    </tr>\n",
              "    <tr>\n",
              "      <th>4</th>\n",
              "      <td>yes, i agree with everyone on this site this m...</td>\n",
              "    </tr>\n",
              "  </tbody>\n",
              "</table>\n",
              "</div>"
            ],
            "text/plain": [
              "                                              review\n",
              "0  watching time chasers, it obvious that it was ...\n",
              "1  i saw this film about 20 years ago and remembe...\n",
              "2  minor spoilers<br /><br />in new york, joan ba...\n",
              "3  i went to see this film with a great deal of e...\n",
              "4  yes, i agree with everyone on this site this m..."
            ]
          },
          "metadata": {
            "tags": []
          },
          "execution_count": 45
        }
      ]
    },
    {
      "cell_type": "code",
      "metadata": {
        "id": "05_MbWTV4jLW",
        "colab_type": "code",
        "colab": {}
      },
      "source": [
        "listdata = unlabeledTrain['review'].str.split()"
      ],
      "execution_count": 0,
      "outputs": []
    },
    {
      "cell_type": "code",
      "metadata": {
        "id": "ThuZ55RS4503",
        "colab_type": "code",
        "colab": {}
      },
      "source": [
        "combineList = []\n",
        "for review in listdata:\n",
        "  combineList.append(review)"
      ],
      "execution_count": 0,
      "outputs": []
    },
    {
      "cell_type": "code",
      "metadata": {
        "id": "vJSGNa3U4Ef0",
        "colab_type": "code",
        "colab": {}
      },
      "source": [
        "from gensim.models import Word2Vec\n",
        "EMBEDING_DIM = 50"
      ],
      "execution_count": 0,
      "outputs": []
    },
    {
      "cell_type": "code",
      "metadata": {
        "id": "B-ji588p4H9g",
        "colab_type": "code",
        "colab": {
          "base_uri": "https://localhost:8080/",
          "height": 34
        },
        "outputId": "66151425-a6ab-46d7-a9b9-bfb2da7e0c02"
      },
      "source": [
        "wordVecModel = Word2Vec(combineList,size=EMBEDING_DIM)\n",
        "words = list(wordVecModel.wv.vocab) #dictionary of wordvec model is words \n",
        "%cd /content/gdrive/My Drive/Results"
      ],
      "execution_count": 49,
      "outputs": [
        {
          "output_type": "stream",
          "text": [
            "/content/gdrive/My Drive/Results\n"
          ],
          "name": "stdout"
        }
      ]
    },
    {
      "cell_type": "code",
      "metadata": {
        "id": "MiE7qRlJ62ZU",
        "colab_type": "code",
        "colab": {}
      },
      "source": [
        "embeedingDict = {}\n",
        "for word in words:\n",
        "  embeedingDict[word] = wordVecModel.wv.get_vector(word)"
      ],
      "execution_count": 0,
      "outputs": []
    },
    {
      "cell_type": "code",
      "metadata": {
        "id": "MggI0iPpG254",
        "colab_type": "code",
        "colab": {}
      },
      "source": [
        ""
      ],
      "execution_count": 0,
      "outputs": []
    },
    {
      "cell_type": "code",
      "metadata": {
        "id": "HinPO6oGMIIv",
        "colab_type": "code",
        "colab": {}
      },
      "source": [
        "def loadEmbeedings(word_index,embeddings_index):\n",
        "  embedding_matrix = np.zeros((len(word_index) + 1, EMBEDING_DIM))\n",
        "  for word, i in word_index.items():\n",
        "      embedding_vector = embeddings_index.get(word)\n",
        "      if embedding_vector is not None:\n",
        "          # words not found in embedding index will be all-zeros.\n",
        "          embedding_matrix[i] = embedding_vector\n",
        "\n",
        "  print('Found %s word vectors.' % len(embeddings_index))\n",
        "  return embedding_matrix"
      ],
      "execution_count": 0,
      "outputs": []
    },
    {
      "cell_type": "code",
      "metadata": {
        "id": "iEbe22hvLsK0",
        "colab_type": "code",
        "colab": {
          "base_uri": "https://localhost:8080/",
          "height": 34
        },
        "outputId": "9d20e795-ffee-49e3-993e-cab71db74a3e"
      },
      "source": [
        "embeeding_matrix = loadEmbeedings(vocab,embeedingDict)"
      ],
      "execution_count": 56,
      "outputs": [
        {
          "output_type": "stream",
          "text": [
            "Found 72507 word vectors.\n"
          ],
          "name": "stdout"
        }
      ]
    },
    {
      "cell_type": "code",
      "metadata": {
        "id": "SJ1jWbfrMVey",
        "colab_type": "code",
        "colab": {
          "base_uri": "https://localhost:8080/",
          "height": 34
        },
        "outputId": "86518393-f41d-41e5-b39f-068e651d38e2"
      },
      "source": [
        "y_trainhot.shape"
      ],
      "execution_count": 57,
      "outputs": [
        {
          "output_type": "execute_result",
          "data": {
            "text/plain": [
              "(19500, 2)"
            ]
          },
          "metadata": {
            "tags": []
          },
          "execution_count": 57
        }
      ]
    },
    {
      "cell_type": "code",
      "metadata": {
        "id": "DLr2qcihH4Gs",
        "colab_type": "code",
        "colab": {
          "base_uri": "https://localhost:8080/",
          "height": 334
        },
        "outputId": "b52582ef-303c-443d-ca0b-5c4ce87eb231"
      },
      "source": [
        "# code model here\n",
        "%cd /content/gdrive/My Drive/NLP/Assignment4\n",
        "LSTM_SIZE = 50\n",
        "maxlen = 20\n",
        "inputA = Input(shape=(maxlen,))\n",
        "embedding_layer = Embedding(input_dim=vocab_size,output_dim=EMBEDING_DIM,input_length=maxlen,weights=[embeeding_matrix],\n",
        "                           trainable=True)(inputA)\n",
        "\n",
        "_,last1,_ = LSTM(LSTM_SIZE, return_sequences=True,return_state=True,recurrent_dropout=0.2)(embedding_layer)\n",
        "out = Dense(2,activation = \"softmax\",name=\"model4\",)(last1)\n",
        "\n",
        "model = Model(inputs=inputA,outputs=out)\n",
        "model.summary()\n"
      ],
      "execution_count": 58,
      "outputs": [
        {
          "output_type": "stream",
          "text": [
            "/content/gdrive/.shortcut-targets-by-id/1QU-Nm928liikIV4AYyrX-UOUxKStNUk_/NLP/Assignment4\n",
            "WARNING:tensorflow:Layer lstm_3 will not use cuDNN kernel since it doesn't meet the cuDNN kernel criteria. It will use generic GPU kernel as fallback when running on GPU\n",
            "Model: \"model_3\"\n",
            "_________________________________________________________________\n",
            "Layer (type)                 Output Shape              Param #   \n",
            "=================================================================\n",
            "input_8 (InputLayer)         [(None, 20)]              0         \n",
            "_________________________________________________________________\n",
            "embedding_4 (Embedding)      (None, 20, 50)            3970050   \n",
            "_________________________________________________________________\n",
            "lstm_3 (LSTM)                [(None, 20, 50), (None, 5 20200     \n",
            "_________________________________________________________________\n",
            "model4 (Dense)               (None, 2)                 102       \n",
            "=================================================================\n",
            "Total params: 3,990,352\n",
            "Trainable params: 3,990,352\n",
            "Non-trainable params: 0\n",
            "_________________________________________________________________\n"
          ],
          "name": "stdout"
        }
      ]
    },
    {
      "cell_type": "code",
      "metadata": {
        "id": "xK2e3XwQOMIV",
        "colab_type": "code",
        "colab": {
          "base_uri": "https://localhost:8080/",
          "height": 826
        },
        "outputId": "49cf7eba-1d87-46ee-f76b-dd3a5f12b342"
      },
      "source": [
        "%cd /content/gdrive/My Drive/Results\n",
        "model.compile(optimizer=\"Adam\",loss=\"categorical_crossentropy\",metrics=[\"accuracy\"])\n",
        "from tensorflow.keras.callbacks import ModelCheckpoint, EarlyStopping, CSVLogger, ReduceLROnPlateau\n",
        "filepath = \"setting_\" + \"model4\" + \".hdf5\"\n",
        "logfilepath = \"setting_\"+\"model4\" + \".csv\"\n",
        "reduce_lr_rate=0.2\n",
        "logCallback = CSVLogger(logfilepath, separator=',', append=False)\n",
        "earlyStopping = EarlyStopping(monitor='val_accuracy', min_delta=0, patience=10, verbose=0, mode='auto')\n",
        "checkpoint = ModelCheckpoint(filepath, monitor='val_accuracy', save_weights_only=True, verbose=1,\n",
        "                             save_best_only=True, mode='auto')\n",
        "reduce_lr = ReduceLROnPlateau(monitor='val_loss', factor=reduce_lr_rate, patience=10,\n",
        "                              cooldown=0, min_lr=0.0000000001, verbose=0)\n",
        "\n",
        "callbacks_list = [logCallback, earlyStopping, reduce_lr, checkpoint]\n",
        "model.fit(padded_X_train,y_trainhot,epochs=100, batch_size=32,\n",
        "                verbose=1,shuffle=True,callbacks=callbacks_list,\n",
        "             validation_data=(padded_X_val,y_valhot),use_multprocessing=True)"
      ],
      "execution_count": 59,
      "outputs": [
        {
          "output_type": "stream",
          "text": [
            "/content/gdrive/My Drive/Results\n",
            "Epoch 1/100\n",
            "610/610 [==============================] - ETA: 0s - loss: 0.5284 - accuracy: 0.7256\n",
            "Epoch 00001: val_accuracy improved from -inf to 0.76640, saving model to setting_model4.hdf5\n",
            "610/610 [==============================] - 66s 108ms/step - loss: 0.5284 - accuracy: 0.7256 - val_loss: 0.4839 - val_accuracy: 0.7664 - lr: 0.0010\n",
            "Epoch 2/100\n",
            "610/610 [==============================] - ETA: 0s - loss: 0.3414 - accuracy: 0.8503\n",
            "Epoch 00002: val_accuracy did not improve from 0.76640\n",
            "610/610 [==============================] - 63s 103ms/step - loss: 0.3414 - accuracy: 0.8503 - val_loss: 0.5250 - val_accuracy: 0.7612 - lr: 0.0010\n",
            "Epoch 3/100\n",
            "610/610 [==============================] - ETA: 0s - loss: 0.2151 - accuracy: 0.9150\n",
            "Epoch 00003: val_accuracy did not improve from 0.76640\n",
            "610/610 [==============================] - 62s 102ms/step - loss: 0.2151 - accuracy: 0.9150 - val_loss: 0.6520 - val_accuracy: 0.7392 - lr: 0.0010\n",
            "Epoch 4/100\n",
            "610/610 [==============================] - ETA: 0s - loss: 0.1369 - accuracy: 0.9476\n",
            "Epoch 00004: val_accuracy did not improve from 0.76640\n",
            "610/610 [==============================] - 62s 101ms/step - loss: 0.1369 - accuracy: 0.9476 - val_loss: 0.8062 - val_accuracy: 0.7368 - lr: 0.0010\n",
            "Epoch 5/100\n",
            "610/610 [==============================] - ETA: 0s - loss: 0.0865 - accuracy: 0.9683\n",
            "Epoch 00005: val_accuracy did not improve from 0.76640\n",
            "610/610 [==============================] - 62s 101ms/step - loss: 0.0865 - accuracy: 0.9683 - val_loss: 0.9782 - val_accuracy: 0.7236 - lr: 0.0010\n",
            "Epoch 6/100\n",
            "610/610 [==============================] - ETA: 0s - loss: 0.0554 - accuracy: 0.9799\n",
            "Epoch 00006: val_accuracy did not improve from 0.76640\n",
            "610/610 [==============================] - 61s 101ms/step - loss: 0.0554 - accuracy: 0.9799 - val_loss: 1.0971 - val_accuracy: 0.7204 - lr: 0.0010\n",
            "Epoch 7/100\n",
            "610/610 [==============================] - ETA: 0s - loss: 0.0368 - accuracy: 0.9877\n",
            "Epoch 00007: val_accuracy did not improve from 0.76640\n",
            "610/610 [==============================] - 61s 100ms/step - loss: 0.0368 - accuracy: 0.9877 - val_loss: 1.3023 - val_accuracy: 0.7192 - lr: 0.0010\n",
            "Epoch 8/100\n",
            "610/610 [==============================] - ETA: 0s - loss: 0.0269 - accuracy: 0.9908\n",
            "Epoch 00008: val_accuracy did not improve from 0.76640\n",
            "610/610 [==============================] - 61s 100ms/step - loss: 0.0269 - accuracy: 0.9908 - val_loss: 1.4771 - val_accuracy: 0.7232 - lr: 0.0010\n",
            "Epoch 9/100\n",
            "610/610 [==============================] - ETA: 0s - loss: 0.0233 - accuracy: 0.9919\n",
            "Epoch 00009: val_accuracy did not improve from 0.76640\n",
            "610/610 [==============================] - 62s 101ms/step - loss: 0.0233 - accuracy: 0.9919 - val_loss: 1.6158 - val_accuracy: 0.7156 - lr: 0.0010\n",
            "Epoch 10/100\n",
            "610/610 [==============================] - ETA: 0s - loss: 0.0150 - accuracy: 0.9952\n",
            "Epoch 00010: val_accuracy did not improve from 0.76640\n",
            "610/610 [==============================] - 61s 101ms/step - loss: 0.0150 - accuracy: 0.9952 - val_loss: 1.8848 - val_accuracy: 0.7184 - lr: 0.0010\n",
            "Epoch 11/100\n",
            "610/610 [==============================] - ETA: 0s - loss: 0.0106 - accuracy: 0.9958\n",
            "Epoch 00011: val_accuracy did not improve from 0.76640\n",
            "610/610 [==============================] - 62s 101ms/step - loss: 0.0106 - accuracy: 0.9958 - val_loss: 1.9073 - val_accuracy: 0.7196 - lr: 0.0010\n"
          ],
          "name": "stdout"
        },
        {
          "output_type": "execute_result",
          "data": {
            "text/plain": [
              "<tensorflow.python.keras.callbacks.History at 0x7fc1bd2e00f0>"
            ]
          },
          "metadata": {
            "tags": []
          },
          "execution_count": 59
        }
      ]
    },
    {
      "cell_type": "code",
      "metadata": {
        "id": "DbIdre-rU8n1",
        "colab_type": "code",
        "colab": {
          "base_uri": "https://localhost:8080/",
          "height": 489
        },
        "outputId": "54a19f5c-2fd8-4f47-af35-156f7c55e923"
      },
      "source": [
        "#predictions = code here\n",
        "labelList=[0,1]\n",
        "predictions = model.predict(padded_X_test)\n",
        "from sklearn.metrics import confusion_matrix\n",
        "predictions = np.argmax(predictions,axis=-1)\n",
        "test_Y_max=np.argmax(y_testhot, axis=-1)\n",
        "cm=confusion_matrix(test_Y_max,predictions)\n",
        "cm = cm.astype('float') / cm.sum(axis=1)[:, np.newaxis]\n",
        "cm = pd.DataFrame(cm, labelList,labelList )# matrix,names row,names col,\n",
        "plt.figure(figsize=(10,7))\n",
        "sn.set(font_scale=1.4) # for label size\n",
        "sn.heatmap(cm, annot=True, annot_kws={\"size\": 11}, fmt=\".2f\") # font size\n",
        "plt.show()\n",
        "print(cm)"
      ],
      "execution_count": 60,
      "outputs": [
        {
          "output_type": "display_data",
          "data": {
            "image/png": "[encoded data removed]",
            "text/plain": [
              "<Figure size 720x504 with 2 Axes>"
            ]
          },
          "metadata": {
            "tags": []
          }
        },
        {
          "output_type": "stream",
          "text": [
            "          0         1\n",
            "0  0.740527  0.259473\n",
            "1  0.303774  0.696226\n"
          ],
          "name": "stdout"
        }
      ]
    },
    {
      "cell_type": "code",
      "metadata": {
        "id": "GSFxqX6eVKXe",
        "colab_type": "code",
        "colab": {
          "base_uri": "https://localhost:8080/",
          "height": 193
        },
        "outputId": "7f9b5567-a95a-4700-9d16-a9a12d0f2be8"
      },
      "source": [
        "print(\"Classification Report\\n\",classification_report(test_Y_max, predictions, labels=[0,1], target_names = [\"Positive\",\"Negative\"]))"
      ],
      "execution_count": 61,
      "outputs": [
        {
          "output_type": "stream",
          "text": [
            "Classification Report\n",
            "               precision    recall  f1-score   support\n",
            "\n",
            "    Positive       0.71      0.74      0.73      2771\n",
            "    Negative       0.73      0.70      0.71      2729\n",
            "\n",
            "    accuracy                           0.72      5500\n",
            "   macro avg       0.72      0.72      0.72      5500\n",
            "weighted avg       0.72      0.72      0.72      5500\n",
            "\n"
          ],
          "name": "stdout"
        }
      ]
    },
    {
      "cell_type": "code",
      "metadata": {
        "id": "LlL9oDl3UVTd",
        "colab_type": "code",
        "colab": {
          "base_uri": "https://localhost:8080/",
          "height": 334
        },
        "outputId": "cee0f30f-070f-4319-c4c7-ac233a675f96"
      },
      "source": [
        "# code model here\n",
        "%cd /content/gdrive/My Drive/NLP/Assignment4\n",
        "LSTM_SIZE = 50\n",
        "maxlen = 20\n",
        "inputA = Input(shape=(maxlen,))\n",
        "embedding_layer = Embedding(input_dim=vocab_size,output_dim=EMBEDING_DIM,input_length=maxlen,weights=[embeeding_matrix],\n",
        "                           trainable=True)\n",
        "shared_embedding_layer_1 = embedding_layer(inputA)\n",
        "\n",
        "shared_lstm = GRU(LSTM_SIZE, return_sequences=True,return_state=True,recurrent_dropout=0.2)\n",
        "_,last1 = shared_lstm(shared_embedding_layer_1)\n",
        "out = Dense(2,activation = \"softmax\",name=\"model5\",)(last1)\n",
        "\n",
        "model = Model(inputs=inputA,outputs=out)\n",
        "model.summary()\n"
      ],
      "execution_count": 62,
      "outputs": [
        {
          "output_type": "stream",
          "text": [
            "/content/gdrive/.shortcut-targets-by-id/1QU-Nm928liikIV4AYyrX-UOUxKStNUk_/NLP/Assignment4\n",
            "WARNING:tensorflow:Layer gru will not use cuDNN kernel since it doesn't meet the cuDNN kernel criteria. It will use generic GPU kernel as fallback when running on GPU\n",
            "Model: \"model_4\"\n",
            "_________________________________________________________________\n",
            "Layer (type)                 Output Shape              Param #   \n",
            "=================================================================\n",
            "input_9 (InputLayer)         [(None, 20)]              0         \n",
            "_________________________________________________________________\n",
            "embedding_5 (Embedding)      (None, 20, 50)            3970050   \n",
            "_________________________________________________________________\n",
            "gru (GRU)                    [(None, 20, 50), (None, 5 15300     \n",
            "_________________________________________________________________\n",
            "model5 (Dense)               (None, 2)                 102       \n",
            "=================================================================\n",
            "Total params: 3,985,452\n",
            "Trainable params: 3,985,452\n",
            "Non-trainable params: 0\n",
            "_________________________________________________________________\n"
          ],
          "name": "stdout"
        }
      ]
    },
    {
      "cell_type": "code",
      "metadata": {
        "id": "ohRkX_aEU7PY",
        "colab_type": "code",
        "colab": {
          "base_uri": "https://localhost:8080/",
          "height": 826
        },
        "outputId": "7bb206a6-8a7d-4910-f758-8e303b92aec1"
      },
      "source": [
        "%cd /content/gdrive/My Drive/Results\n",
        "model.compile(optimizer=\"Adam\",loss=\"categorical_crossentropy\",metrics=[\"accuracy\"])\n",
        "from tensorflow.keras.callbacks import ModelCheckpoint, EarlyStopping, CSVLogger, ReduceLROnPlateau\n",
        "filepath = \"setting_\" + \"model5\" + \".hdf5\"\n",
        "logfilepath = \"setting_\"+\"model5\" + \".csv\"\n",
        "reduce_lr_rate=0.2\n",
        "logCallback = CSVLogger(logfilepath, separator=',', append=False)\n",
        "earlyStopping = EarlyStopping(monitor='val_accuracy', min_delta=0, patience=10, verbose=0, mode='auto')\n",
        "checkpoint = ModelCheckpoint(filepath, monitor='val_accuracy', save_weights_only=True, verbose=1,\n",
        "                             save_best_only=True, mode='auto')\n",
        "reduce_lr = ReduceLROnPlateau(monitor='val_loss', factor=reduce_lr_rate, patience=10,\n",
        "                              cooldown=0, min_lr=0.0000000001, verbose=0)\n",
        "\n",
        "callbacks_list = [logCallback, earlyStopping, reduce_lr, checkpoint]\n",
        "model.fit(padded_X_train,y_trainhot,epochs=100, batch_size=32,\n",
        "                verbose=1,shuffle=True,callbacks=callbacks_list,\n",
        "             validation_data=(padded_X_val,y_valhot),use_multprocessing=True)"
      ],
      "execution_count": 63,
      "outputs": [
        {
          "output_type": "stream",
          "text": [
            "/content/gdrive/My Drive/Results\n",
            "Epoch 1/100\n",
            "610/610 [==============================] - ETA: 0s - loss: 0.5328 - accuracy: 0.7230\n",
            "Epoch 00001: val_accuracy improved from -inf to 0.77800, saving model to setting_model5.hdf5\n",
            "610/610 [==============================] - 60s 98ms/step - loss: 0.5328 - accuracy: 0.7230 - val_loss: 0.4706 - val_accuracy: 0.7780 - lr: 0.0010\n",
            "Epoch 2/100\n",
            "610/610 [==============================] - ETA: 0s - loss: 0.3408 - accuracy: 0.8493\n",
            "Epoch 00002: val_accuracy did not improve from 0.77800\n",
            "610/610 [==============================] - 59s 96ms/step - loss: 0.3408 - accuracy: 0.8493 - val_loss: 0.5115 - val_accuracy: 0.7616 - lr: 0.0010\n",
            "Epoch 3/100\n",
            "610/610 [==============================] - ETA: 0s - loss: 0.2236 - accuracy: 0.9114\n",
            "Epoch 00003: val_accuracy did not improve from 0.77800\n",
            "610/610 [==============================] - 58s 96ms/step - loss: 0.2236 - accuracy: 0.9114 - val_loss: 0.6103 - val_accuracy: 0.7520 - lr: 0.0010\n",
            "Epoch 4/100\n",
            "610/610 [==============================] - ETA: 0s - loss: 0.1464 - accuracy: 0.9445\n",
            "Epoch 00004: val_accuracy did not improve from 0.77800\n",
            "610/610 [==============================] - 59s 96ms/step - loss: 0.1464 - accuracy: 0.9445 - val_loss: 0.7349 - val_accuracy: 0.7444 - lr: 0.0010\n",
            "Epoch 5/100\n",
            "610/610 [==============================] - ETA: 0s - loss: 0.1027 - accuracy: 0.9635\n",
            "Epoch 00005: val_accuracy did not improve from 0.77800\n",
            "610/610 [==============================] - 59s 96ms/step - loss: 0.1027 - accuracy: 0.9635 - val_loss: 0.8548 - val_accuracy: 0.7304 - lr: 0.0010\n",
            "Epoch 6/100\n",
            "610/610 [==============================] - ETA: 0s - loss: 0.0726 - accuracy: 0.9747\n",
            "Epoch 00006: val_accuracy did not improve from 0.77800\n",
            "610/610 [==============================] - 58s 95ms/step - loss: 0.0726 - accuracy: 0.9747 - val_loss: 1.0160 - val_accuracy: 0.7252 - lr: 0.0010\n",
            "Epoch 7/100\n",
            "610/610 [==============================] - ETA: 0s - loss: 0.0527 - accuracy: 0.9810\n",
            "Epoch 00007: val_accuracy did not improve from 0.77800\n",
            "610/610 [==============================] - 58s 95ms/step - loss: 0.0527 - accuracy: 0.9810 - val_loss: 1.1505 - val_accuracy: 0.7316 - lr: 0.0010\n",
            "Epoch 8/100\n",
            "610/610 [==============================] - ETA: 0s - loss: 0.0372 - accuracy: 0.9872\n",
            "Epoch 00008: val_accuracy did not improve from 0.77800\n",
            "610/610 [==============================] - 58s 95ms/step - loss: 0.0372 - accuracy: 0.9872 - val_loss: 1.1804 - val_accuracy: 0.7220 - lr: 0.0010\n",
            "Epoch 9/100\n",
            "610/610 [==============================] - ETA: 0s - loss: 0.0255 - accuracy: 0.9917\n",
            "Epoch 00009: val_accuracy did not improve from 0.77800\n",
            "610/610 [==============================] - 58s 96ms/step - loss: 0.0255 - accuracy: 0.9917 - val_loss: 1.4752 - val_accuracy: 0.7188 - lr: 0.0010\n",
            "Epoch 10/100\n",
            "610/610 [==============================] - ETA: 0s - loss: 0.0206 - accuracy: 0.9931\n",
            "Epoch 00010: val_accuracy did not improve from 0.77800\n",
            "610/610 [==============================] - 58s 95ms/step - loss: 0.0206 - accuracy: 0.9931 - val_loss: 1.6710 - val_accuracy: 0.7208 - lr: 0.0010\n",
            "Epoch 11/100\n",
            "610/610 [==============================] - ETA: 0s - loss: 0.0127 - accuracy: 0.9962\n",
            "Epoch 00011: val_accuracy did not improve from 0.77800\n",
            "610/610 [==============================] - 58s 95ms/step - loss: 0.0127 - accuracy: 0.9962 - val_loss: 1.6260 - val_accuracy: 0.7128 - lr: 0.0010\n"
          ],
          "name": "stdout"
        },
        {
          "output_type": "execute_result",
          "data": {
            "text/plain": [
              "<tensorflow.python.keras.callbacks.History at 0x7fc1bc4df9b0>"
            ]
          },
          "metadata": {
            "tags": []
          },
          "execution_count": 63
        }
      ]
    },
    {
      "cell_type": "code",
      "metadata": {
        "id": "pins1J1xVVaL",
        "colab_type": "code",
        "colab": {
          "base_uri": "https://localhost:8080/",
          "height": 489
        },
        "outputId": "45b43285-bab1-46c2-ec6a-74df7f5fc72d"
      },
      "source": [
        "#predictions = code here\n",
        "labelList=[0,1]\n",
        "predictions = model.predict(padded_X_test)\n",
        "from sklearn.metrics import confusion_matrix\n",
        "predictions = np.argmax(predictions,axis=-1)\n",
        "test_Y_max=np.argmax(y_testhot, axis=-1)\n",
        "cm=confusion_matrix(test_Y_max,predictions)\n",
        "cm = cm.astype('float') / cm.sum(axis=1)[:, np.newaxis]\n",
        "cm = pd.DataFrame(cm, labelList,labelList )# matrix,names row,names col,\n",
        "plt.figure(figsize=(10,7))\n",
        "sn.set(font_scale=1.4) # for label size\n",
        "sn.heatmap(cm, annot=True, annot_kws={\"size\": 11}, fmt=\".2f\") # font size\n",
        "plt.show()\n",
        "print(cm)"
      ],
      "execution_count": 64,
      "outputs": [
        {
          "output_type": "display_data",
          "data": {
            "image/png": "[encoded data removed]",
            "text/plain": [
              "<Figure size 720x504 with 2 Axes>"
            ]
          },
          "metadata": {
            "tags": []
          }
        },
        {
          "output_type": "stream",
          "text": [
            "          0         1\n",
            "0  0.771923  0.228077\n",
            "1  0.347014  0.652986\n"
          ],
          "name": "stdout"
        }
      ]
    },
    {
      "cell_type": "code",
      "metadata": {
        "id": "D7QvsyrdVhH1",
        "colab_type": "code",
        "colab": {
          "base_uri": "https://localhost:8080/",
          "height": 193
        },
        "outputId": "abb574cf-fce2-4408-9e65-54b220c3591a"
      },
      "source": [
        "print(\"Classification Report\\n\",classification_report(test_Y_max, predictions, labels=[0,1], target_names = [\"Positive\",\"Negative\"]))"
      ],
      "execution_count": 65,
      "outputs": [
        {
          "output_type": "stream",
          "text": [
            "Classification Report\n",
            "               precision    recall  f1-score   support\n",
            "\n",
            "    Positive       0.69      0.77      0.73      2771\n",
            "    Negative       0.74      0.65      0.69      2729\n",
            "\n",
            "    accuracy                           0.71      5500\n",
            "   macro avg       0.72      0.71      0.71      5500\n",
            "weighted avg       0.72      0.71      0.71      5500\n",
            "\n"
          ],
          "name": "stdout"
        }
      ]
    },
    {
      "cell_type": "code",
      "metadata": {
        "id": "C4L2Jaa8WBBk",
        "colab_type": "code",
        "colab": {
          "base_uri": "https://localhost:8080/",
          "height": 316
        },
        "outputId": "036b099b-2a5e-4156-940a-a0946ea17ca9"
      },
      "source": [
        "# code model here\n",
        "%cd /content/gdrive/My Drive/NLP/Assignment4\n",
        "LSTM_SIZE = 50\n",
        "maxlen = 20\n",
        "inputA = Input(shape=(maxlen,))\n",
        "embedding_layer = Embedding(input_dim=vocab_size,output_dim=EMBEDING_DIM,input_length=maxlen,weights=[embeeding_matrix],\n",
        "                           trainable=True)\n",
        "shared_embedding_layer_1 = embedding_layer(inputA)\n",
        "\n",
        "shared_lstm = SimpleRNN(LSTM_SIZE, return_sequences=True,return_state=True,recurrent_dropout=0.2)\n",
        "_,last1 = shared_lstm(shared_embedding_layer_1)\n",
        "out = Dense(2,activation = \"softmax\",name=\"model6\",)(last1)\n",
        "\n",
        "model = Model(inputs=inputA,outputs=out)\n",
        "model.summary()\n"
      ],
      "execution_count": 66,
      "outputs": [
        {
          "output_type": "stream",
          "text": [
            "/content/gdrive/.shortcut-targets-by-id/1QU-Nm928liikIV4AYyrX-UOUxKStNUk_/NLP/Assignment4\n",
            "Model: \"model_5\"\n",
            "_________________________________________________________________\n",
            "Layer (type)                 Output Shape              Param #   \n",
            "=================================================================\n",
            "input_10 (InputLayer)        [(None, 20)]              0         \n",
            "_________________________________________________________________\n",
            "embedding_6 (Embedding)      (None, 20, 50)            3970050   \n",
            "_________________________________________________________________\n",
            "simple_rnn (SimpleRNN)       [(None, 20, 50), (None, 5 5050      \n",
            "_________________________________________________________________\n",
            "model6 (Dense)               (None, 2)                 102       \n",
            "=================================================================\n",
            "Total params: 3,975,202\n",
            "Trainable params: 3,975,202\n",
            "Non-trainable params: 0\n",
            "_________________________________________________________________\n"
          ],
          "name": "stdout"
        }
      ]
    },
    {
      "cell_type": "code",
      "metadata": {
        "id": "y5HdNoS2XM1E",
        "colab_type": "code",
        "colab": {
          "base_uri": "https://localhost:8080/",
          "height": 897
        },
        "outputId": "b0c7fc9f-6b1c-4601-fd35-e8668b4d4615"
      },
      "source": [
        "%cd /content/gdrive/My Drive/Results\n",
        "model.compile(optimizer=\"Adam\",loss=\"categorical_crossentropy\",metrics=[\"accuracy\"])\n",
        "from tensorflow.keras.callbacks import ModelCheckpoint, EarlyStopping, CSVLogger, ReduceLROnPlateau\n",
        "filepath = \"setting_\" + \"model6\" + \".hdf5\"\n",
        "logfilepath = \"setting_\"+\"model6\" + \".csv\"\n",
        "reduce_lr_rate=0.2\n",
        "logCallback = CSVLogger(logfilepath, separator=',', append=False)\n",
        "earlyStopping = EarlyStopping(monitor='val_accuracy', min_delta=0, patience=10, verbose=0, mode='auto')\n",
        "checkpoint = ModelCheckpoint(filepath, monitor='val_accuracy', save_weights_only=True, verbose=1,\n",
        "                             save_best_only=True, mode='auto')\n",
        "reduce_lr = ReduceLROnPlateau(monitor='val_loss', factor=reduce_lr_rate, patience=10,\n",
        "                              cooldown=0, min_lr=0.0000000001, verbose=0)\n",
        "\n",
        "callbacks_list = [logCallback, earlyStopping, reduce_lr, checkpoint]\n",
        "model.fit(padded_X_train,y_trainhot,epochs=100, batch_size=32,\n",
        "                verbose=1,shuffle=True,callbacks=callbacks_list,\n",
        "             validation_data=(padded_X_val,y_valhot),use_multprocessing=True)"
      ],
      "execution_count": 67,
      "outputs": [
        {
          "output_type": "stream",
          "text": [
            "/content/gdrive/My Drive/Results\n",
            "Epoch 1/100\n",
            "609/610 [============================>.] - ETA: 0s - loss: 0.5884 - accuracy: 0.6691\n",
            "Epoch 00001: val_accuracy improved from -inf to 0.76160, saving model to setting_model6.hdf5\n",
            "610/610 [==============================] - 34s 57ms/step - loss: 0.5882 - accuracy: 0.6691 - val_loss: 0.4950 - val_accuracy: 0.7616 - lr: 0.0010\n",
            "Epoch 2/100\n",
            "610/610 [==============================] - ETA: 0s - loss: 0.3956 - accuracy: 0.8243\n",
            "Epoch 00002: val_accuracy improved from 0.76160 to 0.77280, saving model to setting_model6.hdf5\n",
            "610/610 [==============================] - 34s 55ms/step - loss: 0.3956 - accuracy: 0.8243 - val_loss: 0.5153 - val_accuracy: 0.7728 - lr: 0.0010\n",
            "Epoch 3/100\n",
            "610/610 [==============================] - ETA: 0s - loss: 0.2764 - accuracy: 0.8886\n",
            "Epoch 00003: val_accuracy did not improve from 0.77280\n",
            "610/610 [==============================] - 33s 54ms/step - loss: 0.2764 - accuracy: 0.8886 - val_loss: 0.6060 - val_accuracy: 0.7420 - lr: 0.0010\n",
            "Epoch 4/100\n",
            "610/610 [==============================] - ETA: 0s - loss: 0.2021 - accuracy: 0.9233\n",
            "Epoch 00004: val_accuracy did not improve from 0.77280\n",
            "610/610 [==============================] - 33s 53ms/step - loss: 0.2021 - accuracy: 0.9233 - val_loss: 0.6645 - val_accuracy: 0.7376 - lr: 0.0010\n",
            "Epoch 5/100\n",
            "610/610 [==============================] - ETA: 0s - loss: 0.1540 - accuracy: 0.9438\n",
            "Epoch 00005: val_accuracy did not improve from 0.77280\n",
            "610/610 [==============================] - 33s 54ms/step - loss: 0.1540 - accuracy: 0.9438 - val_loss: 0.6899 - val_accuracy: 0.7316 - lr: 0.0010\n",
            "Epoch 6/100\n",
            "610/610 [==============================] - ETA: 0s - loss: 0.1161 - accuracy: 0.9593\n",
            "Epoch 00006: val_accuracy did not improve from 0.77280\n",
            "610/610 [==============================] - 34s 55ms/step - loss: 0.1161 - accuracy: 0.9593 - val_loss: 1.0685 - val_accuracy: 0.7360 - lr: 0.0010\n",
            "Epoch 7/100\n",
            "609/610 [============================>.] - ETA: 0s - loss: 0.0942 - accuracy: 0.9662\n",
            "Epoch 00007: val_accuracy did not improve from 0.77280\n",
            "610/610 [==============================] - 33s 55ms/step - loss: 0.0942 - accuracy: 0.9663 - val_loss: 1.0339 - val_accuracy: 0.7376 - lr: 0.0010\n",
            "Epoch 8/100\n",
            "609/610 [============================>.] - ETA: 0s - loss: 0.0758 - accuracy: 0.9718\n",
            "Epoch 00008: val_accuracy did not improve from 0.77280\n",
            "610/610 [==============================] - 33s 54ms/step - loss: 0.0760 - accuracy: 0.9718 - val_loss: 1.0025 - val_accuracy: 0.7188 - lr: 0.0010\n",
            "Epoch 9/100\n",
            "610/610 [==============================] - ETA: 0s - loss: 0.0690 - accuracy: 0.9754\n",
            "Epoch 00009: val_accuracy did not improve from 0.77280\n",
            "610/610 [==============================] - 33s 54ms/step - loss: 0.0690 - accuracy: 0.9754 - val_loss: 1.1513 - val_accuracy: 0.7292 - lr: 0.0010\n",
            "Epoch 10/100\n",
            "610/610 [==============================] - ETA: 0s - loss: 0.0554 - accuracy: 0.9811\n",
            "Epoch 00010: val_accuracy did not improve from 0.77280\n",
            "610/610 [==============================] - 33s 54ms/step - loss: 0.0554 - accuracy: 0.9811 - val_loss: 1.3325 - val_accuracy: 0.7320 - lr: 0.0010\n",
            "Epoch 11/100\n",
            "610/610 [==============================] - ETA: 0s - loss: 0.0467 - accuracy: 0.9839\n",
            "Epoch 00011: val_accuracy did not improve from 0.77280\n",
            "610/610 [==============================] - 32s 53ms/step - loss: 0.0467 - accuracy: 0.9839 - val_loss: 1.4144 - val_accuracy: 0.7176 - lr: 0.0010\n",
            "Epoch 12/100\n",
            "610/610 [==============================] - ETA: 0s - loss: 0.0284 - accuracy: 0.9904\n",
            "Epoch 00012: val_accuracy did not improve from 0.77280\n",
            "610/610 [==============================] - 32s 53ms/step - loss: 0.0284 - accuracy: 0.9904 - val_loss: 1.3376 - val_accuracy: 0.7264 - lr: 2.0000e-04\n"
          ],
          "name": "stdout"
        },
        {
          "output_type": "execute_result",
          "data": {
            "text/plain": [
              "<tensorflow.python.keras.callbacks.History at 0x7fc1bb6040b8>"
            ]
          },
          "metadata": {
            "tags": []
          },
          "execution_count": 67
        }
      ]
    },
    {
      "cell_type": "code",
      "metadata": {
        "id": "GFidx_IMXTOS",
        "colab_type": "code",
        "colab": {
          "base_uri": "https://localhost:8080/",
          "height": 489
        },
        "outputId": "c65b25d5-b82a-4407-e52a-edd2c8e7c8bf"
      },
      "source": [
        "#predictions = code here\n",
        "labelList=[0,1]\n",
        "predictions = model.predict(padded_X_test)\n",
        "from sklearn.metrics import confusion_matrix\n",
        "predictions = np.argmax(predictions,axis=-1)\n",
        "test_Y_max=np.argmax(y_testhot, axis=-1)\n",
        "cm=confusion_matrix(test_Y_max,predictions)\n",
        "cm = cm.astype('float') / cm.sum(axis=1)[:, np.newaxis]\n",
        "cm = pd.DataFrame(cm, labelList,labelList )# matrix,names row,names col,\n",
        "plt.figure(figsize=(10,7))\n",
        "sn.set(font_scale=1.4) # for label size\n",
        "sn.heatmap(cm, annot=True, annot_kws={\"size\": 11}, fmt=\".2f\") # font size\n",
        "plt.show()\n",
        "print(cm)"
      ],
      "execution_count": 68,
      "outputs": [
        {
          "output_type": "display_data",
          "data": {
            "image/png": "[encoded data removed]",
            "text/plain": [
              "<Figure size 720x504 with 2 Axes>"
            ]
          },
          "metadata": {
            "tags": []
          }
        },
        {
          "output_type": "stream",
          "text": [
            "          0         1\n",
            "0  0.720318  0.279682\n",
            "1  0.268230  0.731770\n"
          ],
          "name": "stdout"
        }
      ]
    },
    {
      "cell_type": "code",
      "metadata": {
        "id": "jyNmIS9lXWMi",
        "colab_type": "code",
        "colab": {
          "base_uri": "https://localhost:8080/",
          "height": 193
        },
        "outputId": "b0cb6dd3-ebc8-4f99-b19a-07878cfe2345"
      },
      "source": [
        "print(\"Classification Report\\n\",classification_report(test_Y_max, predictions, labels=[0,1], target_names = [\"Positive\",\"Negative\"]))"
      ],
      "execution_count": 69,
      "outputs": [
        {
          "output_type": "stream",
          "text": [
            "Classification Report\n",
            "               precision    recall  f1-score   support\n",
            "\n",
            "    Positive       0.73      0.72      0.73      2771\n",
            "    Negative       0.72      0.73      0.73      2729\n",
            "\n",
            "    accuracy                           0.73      5500\n",
            "   macro avg       0.73      0.73      0.73      5500\n",
            "weighted avg       0.73      0.73      0.73      5500\n",
            "\n"
          ],
          "name": "stdout"
        }
      ]
    },
    {
      "cell_type": "markdown",
      "metadata": {
        "id": "1B37hEJGm7OA",
        "colab_type": "text"
      },
      "source": [
        "`Ckearly Simple RNN has slightly more accuracy than LSTM and GRU`"
      ]
    },
    {
      "cell_type": "markdown",
      "metadata": {
        "id": "dgAmib7CY0Yd",
        "colab_type": "text"
      },
      "source": [
        "# We hope all of you are working on your projects and <a href=\"https://ibb.co/dcpf4vS\"> Kudos for completing the assingnment</a>"
      ]
    },
    {
      "cell_type": "code",
      "metadata": {
        "id": "4fPz6SkqgLhO",
        "colab_type": "code",
        "colab": {}
      },
      "source": [
        ""
      ],
      "execution_count": 0,
      "outputs": []
    }
  ]
}